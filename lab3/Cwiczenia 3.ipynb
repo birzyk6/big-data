{
 "cells": [
  {
   "cell_type": "code",
   "execution_count": 0,
   "metadata": {
    "application/vnd.databricks.v1+cell": {
     "cellMetadata": {
      "byteLimit": 2048000,
      "rowLimit": 10000
     },
     "inputWidgets": {},
     "nuid": "08d4c89c-356a-43ba-833d-73f8ebb50fef",
     "showTitle": false,
     "tableResultSettingsMap": {},
     "title": ""
    }
   },
   "outputs": [
    {
     "data": {
      "text/html": [
       "<style scoped>\n",
       "  .table-result-container {\n",
       "    max-height: 300px;\n",
       "    overflow: auto;\n",
       "  }\n",
       "  table, th, td {\n",
       "    border: 1px solid black;\n",
       "    border-collapse: collapse;\n",
       "  }\n",
       "  th, td {\n",
       "    padding: 5px;\n",
       "  }\n",
       "  th {\n",
       "    text-align: left;\n",
       "  }\n",
       "</style><div class='table-result-container'><table class='table-result'><thead style='background-color: white'><tr><th>path</th><th>name</th><th>size</th><th>modificationTime</th></tr></thead><tbody><tr><td>dbfs:/FileStore/tables/name_basics.tsv</td><td>name_basics.tsv</td><td>878170765</td><td>1742916710000</td></tr><tr><td>dbfs:/FileStore/tables/title_basics.tsv</td><td>title_basics.tsv</td><td>996901919</td><td>1742916733000</td></tr><tr><td>dbfs:/FileStore/tables/title_ratings.tsv</td><td>title_ratings.tsv</td><td>26949937</td><td>1742916723000</td></tr></tbody></table></div>"
      ]
     },
     "metadata": {
      "application/vnd.databricks.v1+output": {
       "addedWidgets": {},
       "aggData": [],
       "aggError": "",
       "aggOverflow": false,
       "aggSchema": [],
       "aggSeriesLimitReached": false,
       "aggType": "",
       "arguments": {},
       "columnCustomDisplayInfos": {},
       "data": [
        [
         "dbfs:/FileStore/tables/name_basics.tsv",
         "name_basics.tsv",
         878170765,
         1742916710000
        ],
        [
         "dbfs:/FileStore/tables/title_basics.tsv",
         "title_basics.tsv",
         996901919,
         1742916733000
        ],
        [
         "dbfs:/FileStore/tables/title_ratings.tsv",
         "title_ratings.tsv",
         26949937,
         1742916723000
        ]
       ],
       "datasetInfos": [],
       "dbfsResultPath": null,
       "isJsonSchema": true,
       "metadata": {
        "isDbfsCommandResult": false
       },
       "overflow": false,
       "plotOptions": {
        "customPlotOptions": {},
        "displayType": "table",
        "pivotAggregation": null,
        "pivotColumns": null,
        "xColumns": null,
        "yColumns": null
       },
       "removedWidgets": [],
       "schema": [
        {
         "metadata": "{}",
         "name": "path",
         "type": "\"string\""
        },
        {
         "metadata": "{}",
         "name": "name",
         "type": "\"string\""
        },
        {
         "metadata": "{}",
         "name": "size",
         "type": "\"long\""
        },
        {
         "metadata": "{}",
         "name": "modificationTime",
         "type": "\"long\""
        }
       ],
       "type": "table"
      }
     },
     "output_type": "display_data"
    }
   ],
   "source": [
    "%fs ls /FileStore/tables"
   ]
  },
  {
   "cell_type": "markdown",
   "metadata": {
    "application/vnd.databricks.v1+cell": {
     "cellMetadata": {},
     "inputWidgets": {},
     "nuid": "8f1eb294-585d-4cd5-b6f5-7527ae399fdf",
     "showTitle": false,
     "tableResultSettingsMap": {},
     "title": ""
    }
   },
   "source": [
    "Names.csv \n",
    "* Dodaj kolumnę z wartością czasu wykonania notatnika w formacie epoch\n",
    "* Dodaj kolumnę w której wyliczysz wzrost w stopach (feet)\n",
    "* Odpowiedz na pytanie jakie jest najpopularniesze imię?\n",
    "* Dodaj kolumnę i policz wiek aktorów \n",
    "* Usuń kolumny (bio, death_details)\n",
    "* Zmień nazwy kolumn - dodaj kapitalizaję i usuń _\n",
    "* Posortuj dataframe po imieniu rosnąco"
   ]
  },
  {
   "cell_type": "code",
   "execution_count": 0,
   "metadata": {
    "application/vnd.databricks.v1+cell": {
     "cellMetadata": {
      "byteLimit": 2048000,
      "rowLimit": 10000
     },
     "inputWidgets": {},
     "nuid": "682ee105-0a36-455f-9c09-98dfba93ba21",
     "showTitle": false,
     "tableResultSettingsMap": {},
     "title": ""
    }
   },
   "outputs": [],
   "source": [
    "filePath = \"dbfs:/FileStore/tables/name_basics.tsv\"\n",
    "namesDf = spark.read.format(\"csv\") \\\n",
    "              .option(\"header\",\"true\") \\\n",
    "              .option(\"delimiter\", \"\\t\") \\\n",
    "              .option(\"inferSchema\",\"true\") \\\n",
    "              .load(filePath)"
   ]
  },
  {
   "cell_type": "code",
   "execution_count": 0,
   "metadata": {
    "application/vnd.databricks.v1+cell": {
     "cellMetadata": {
      "byteLimit": 2048000,
      "rowLimit": 10000
     },
     "inputWidgets": {},
     "nuid": "14f3481e-9b62-4306-8490-51cf61379551",
     "showTitle": false,
     "tableResultSettingsMap": {},
     "title": ""
    }
   },
   "outputs": [
    {
     "data": {
      "text/html": [
       "<style scoped>\n",
       "  .table-result-container {\n",
       "    max-height: 300px;\n",
       "    overflow: auto;\n",
       "  }\n",
       "  table, th, td {\n",
       "    border: 1px solid black;\n",
       "    border-collapse: collapse;\n",
       "  }\n",
       "  th, td {\n",
       "    padding: 5px;\n",
       "  }\n",
       "  th {\n",
       "    text-align: left;\n",
       "  }\n",
       "</style><div class='table-result-container'><table class='table-result'><thead style='background-color: white'><tr><th>nconst</th><th>primaryName</th><th>birthYear</th><th>deathYear</th><th>primaryProfession</th><th>knownForTitles</th></tr></thead><tbody><tr><td>nm0000001</td><td>Fred Astaire</td><td>1899</td><td>1987</td><td>actor,miscellaneous,producer</td><td>tt0072308,tt0050419,tt0027125,tt0031983</td></tr><tr><td>nm0000002</td><td>Lauren Bacall</td><td>1924</td><td>2014</td><td>actress,soundtrack,archive_footage</td><td>tt0037382,tt0075213,tt0117057,tt0038355</td></tr><tr><td>nm0000003</td><td>Brigitte Bardot</td><td>1934</td><td>\\N</td><td>actress,music_department,producer</td><td>tt0057345,tt0049189,tt0056404,tt0054452</td></tr><tr><td>nm0000004</td><td>John Belushi</td><td>1949</td><td>1982</td><td>actor,writer,music_department</td><td>tt0072562,tt0077975,tt0080455,tt0078723</td></tr><tr><td>nm0000005</td><td>Ingmar Bergman</td><td>1918</td><td>2007</td><td>writer,director,actor</td><td>tt0050986,tt0069467,tt0050976,tt0083922</td></tr><tr><td>nm0000006</td><td>Ingrid Bergman</td><td>1915</td><td>1982</td><td>actress,producer,soundtrack</td><td>tt0034583,tt0038109,tt0036855,tt0038787</td></tr><tr><td>nm0000007</td><td>Humphrey Bogart</td><td>1899</td><td>1957</td><td>actor,producer,miscellaneous</td><td>tt0034583,tt0043265,tt0037382,tt0033870</td></tr><tr><td>nm0000008</td><td>Marlon Brando</td><td>1924</td><td>2004</td><td>actor,director,writer</td><td>tt0078788,tt0068646,tt0047296,tt0044081</td></tr><tr><td>nm0000009</td><td>Richard Burton</td><td>1925</td><td>1984</td><td>actor,producer,director</td><td>tt0061184,tt0087803,tt0059749,tt0057877</td></tr><tr><td>nm0000010</td><td>James Cagney</td><td>1899</td><td>1986</td><td>actor,director,producer</td><td>tt0029870,tt0031867,tt0042041,tt0034236</td></tr><tr><td>nm0000011</td><td>Gary Cooper</td><td>1901</td><td>1961</td><td>actor,stunts,producer</td><td>tt0044706,tt0034167,tt0027996,tt0033373</td></tr><tr><td>nm0000012</td><td>Bette Davis</td><td>1908</td><td>1989</td><td>actress,make_up_department,producer</td><td>tt0042192,tt0056687,tt0035140,tt0031210</td></tr><tr><td>nm0000013</td><td>Doris Day</td><td>1922</td><td>2019</td><td>actress,producer,miscellaneous</td><td>tt0048317,tt0045591,tt0053172,tt0040745</td></tr><tr><td>nm0000014</td><td>Olivia de Havilland</td><td>1916</td><td>2020</td><td>actress,soundtrack,archive_footage</td><td>tt0031381,tt0041452,tt0029843,tt0040806</td></tr><tr><td>nm0000015</td><td>James Dean</td><td>1931</td><td>1955</td><td>actor,miscellaneous,archive_footage</td><td>tt0048028,tt0048545,tt0049261,tt0039123</td></tr><tr><td>nm0000016</td><td>Georges Delerue</td><td>1925</td><td>1992</td><td>composer,music_department,actor</td><td>tt0091763,tt0096320,tt0069946,tt0079477</td></tr><tr><td>nm0000017</td><td>Marlene Dietrich</td><td>1901</td><td>1992</td><td>actress,music_department,soundtrack</td><td>tt0051201,tt0021156,tt0055031,tt0052311</td></tr><tr><td>nm0000018</td><td>Kirk Douglas</td><td>1916</td><td>2020</td><td>actor,producer,director</td><td>tt0043338,tt0080736,tt0054331,tt0049456</td></tr><tr><td>nm0000019</td><td>Federico Fellini</td><td>1920</td><td>1993</td><td>writer,director,actor</td><td>tt0056801,tt0050783,tt0047528,tt0053779</td></tr><tr><td>nm0000020</td><td>Henry Fonda</td><td>1905</td><td>1982</td><td>actor,producer,miscellaneous</td><td>tt0050083,tt0082846,tt0032551,tt0033804</td></tr></tbody></table></div>"
      ]
     },
     "metadata": {
      "application/vnd.databricks.v1+output": {
       "addedWidgets": {},
       "aggData": [],
       "aggError": "",
       "aggOverflow": false,
       "aggSchema": [],
       "aggSeriesLimitReached": false,
       "aggType": "",
       "arguments": {},
       "columnCustomDisplayInfos": {},
       "data": [
        [
         "nm0000001",
         "Fred Astaire",
         "1899",
         "1987",
         "actor,miscellaneous,producer",
         "tt0072308,tt0050419,tt0027125,tt0031983"
        ],
        [
         "nm0000002",
         "Lauren Bacall",
         "1924",
         "2014",
         "actress,soundtrack,archive_footage",
         "tt0037382,tt0075213,tt0117057,tt0038355"
        ],
        [
         "nm0000003",
         "Brigitte Bardot",
         "1934",
         "\\N",
         "actress,music_department,producer",
         "tt0057345,tt0049189,tt0056404,tt0054452"
        ],
        [
         "nm0000004",
         "John Belushi",
         "1949",
         "1982",
         "actor,writer,music_department",
         "tt0072562,tt0077975,tt0080455,tt0078723"
        ],
        [
         "nm0000005",
         "Ingmar Bergman",
         "1918",
         "2007",
         "writer,director,actor",
         "tt0050986,tt0069467,tt0050976,tt0083922"
        ],
        [
         "nm0000006",
         "Ingrid Bergman",
         "1915",
         "1982",
         "actress,producer,soundtrack",
         "tt0034583,tt0038109,tt0036855,tt0038787"
        ],
        [
         "nm0000007",
         "Humphrey Bogart",
         "1899",
         "1957",
         "actor,producer,miscellaneous",
         "tt0034583,tt0043265,tt0037382,tt0033870"
        ],
        [
         "nm0000008",
         "Marlon Brando",
         "1924",
         "2004",
         "actor,director,writer",
         "tt0078788,tt0068646,tt0047296,tt0044081"
        ],
        [
         "nm0000009",
         "Richard Burton",
         "1925",
         "1984",
         "actor,producer,director",
         "tt0061184,tt0087803,tt0059749,tt0057877"
        ],
        [
         "nm0000010",
         "James Cagney",
         "1899",
         "1986",
         "actor,director,producer",
         "tt0029870,tt0031867,tt0042041,tt0034236"
        ],
        [
         "nm0000011",
         "Gary Cooper",
         "1901",
         "1961",
         "actor,stunts,producer",
         "tt0044706,tt0034167,tt0027996,tt0033373"
        ],
        [
         "nm0000012",
         "Bette Davis",
         "1908",
         "1989",
         "actress,make_up_department,producer",
         "tt0042192,tt0056687,tt0035140,tt0031210"
        ],
        [
         "nm0000013",
         "Doris Day",
         "1922",
         "2019",
         "actress,producer,miscellaneous",
         "tt0048317,tt0045591,tt0053172,tt0040745"
        ],
        [
         "nm0000014",
         "Olivia de Havilland",
         "1916",
         "2020",
         "actress,soundtrack,archive_footage",
         "tt0031381,tt0041452,tt0029843,tt0040806"
        ],
        [
         "nm0000015",
         "James Dean",
         "1931",
         "1955",
         "actor,miscellaneous,archive_footage",
         "tt0048028,tt0048545,tt0049261,tt0039123"
        ],
        [
         "nm0000016",
         "Georges Delerue",
         "1925",
         "1992",
         "composer,music_department,actor",
         "tt0091763,tt0096320,tt0069946,tt0079477"
        ],
        [
         "nm0000017",
         "Marlene Dietrich",
         "1901",
         "1992",
         "actress,music_department,soundtrack",
         "tt0051201,tt0021156,tt0055031,tt0052311"
        ],
        [
         "nm0000018",
         "Kirk Douglas",
         "1916",
         "2020",
         "actor,producer,director",
         "tt0043338,tt0080736,tt0054331,tt0049456"
        ],
        [
         "nm0000019",
         "Federico Fellini",
         "1920",
         "1993",
         "writer,director,actor",
         "tt0056801,tt0050783,tt0047528,tt0053779"
        ],
        [
         "nm0000020",
         "Henry Fonda",
         "1905",
         "1982",
         "actor,producer,miscellaneous",
         "tt0050083,tt0082846,tt0032551,tt0033804"
        ]
       ],
       "datasetInfos": [],
       "dbfsResultPath": null,
       "isJsonSchema": true,
       "metadata": {},
       "overflow": false,
       "plotOptions": {
        "customPlotOptions": {},
        "displayType": "table",
        "pivotAggregation": null,
        "pivotColumns": null,
        "xColumns": null,
        "yColumns": null
       },
       "removedWidgets": [],
       "schema": [
        {
         "metadata": "{}",
         "name": "nconst",
         "type": "\"string\""
        },
        {
         "metadata": "{}",
         "name": "primaryName",
         "type": "\"string\""
        },
        {
         "metadata": "{}",
         "name": "birthYear",
         "type": "\"string\""
        },
        {
         "metadata": "{}",
         "name": "deathYear",
         "type": "\"string\""
        },
        {
         "metadata": "{}",
         "name": "primaryProfession",
         "type": "\"string\""
        },
        {
         "metadata": "{}",
         "name": "knownForTitles",
         "type": "\"string\""
        }
       ],
       "type": "table"
      }
     },
     "output_type": "display_data"
    }
   ],
   "source": [
    "display(namesDf.head(20))"
   ]
  },
  {
   "cell_type": "markdown",
   "metadata": {
    "application/vnd.databricks.v1+cell": {
     "cellMetadata": {},
     "inputWidgets": {},
     "nuid": "2b7ab548-c652-4609-8277-eddd7adfcdc5",
     "showTitle": false,
     "tableResultSettingsMap": {},
     "title": ""
    }
   },
   "source": [
    "### Tabela name_basics, pobrana z IMDb, nie ma tych niektórych kolumn, więc trochę pozmieniam te podpunkty\n",
    "\n",
    "- Dodaj kolumnę z wartością czasu wykonania notatnika w formacie epoch\n",
    "- Dodaj kolumnę w której wyliczysz główną porfesję\n",
    "- Odpowiedz na pytanie jakie jest najpopularniesze imię?\n",
    "- Dodaj kolumnę i policz wiek aktorów\n",
    "- Usuń kolumny (nconst)\n",
    "- Zmień nazwy kolumn - dodaj kapitalizaję i dodaj spacje\n",
    "- Posortuj dataframe po imieniu rosnąco"
   ]
  },
  {
   "cell_type": "code",
   "execution_count": 0,
   "metadata": {
    "application/vnd.databricks.v1+cell": {
     "cellMetadata": {
      "byteLimit": 2048000,
      "rowLimit": 10000
     },
     "inputWidgets": {},
     "nuid": "ab63b60a-4aa8-488b-b2e7-afd422d4667e",
     "showTitle": false,
     "tableResultSettingsMap": {},
     "title": ""
    }
   },
   "outputs": [
    {
     "data": {
      "text/html": [
       "<style scoped>\n",
       "  .table-result-container {\n",
       "    max-height: 300px;\n",
       "    overflow: auto;\n",
       "  }\n",
       "  table, th, td {\n",
       "    border: 1px solid black;\n",
       "    border-collapse: collapse;\n",
       "  }\n",
       "  th, td {\n",
       "    padding: 5px;\n",
       "  }\n",
       "  th {\n",
       "    text-align: left;\n",
       "  }\n",
       "</style><div class='table-result-container'><table class='table-result'><thead style='background-color: white'><tr><th>Primary Name</th><th>Birth Year</th><th>Death Year</th><th>Primary Profession</th><th>Known For Titles</th><th>Time Of Execution</th><th>Main Profession</th><th>Age</th></tr></thead><tbody><tr><td>!'aru Ikhuisi Piet Berendse</td><td>\\N</td><td>\\N</td><td>\\N</td><td>tt4245110</td><td>1742860800</td><td>\\N</td><td>null</td></tr><tr><td>!Gubi Tietie</td><td>\\N</td><td>\\N</td><td>actor</td><td>tt2364626</td><td>1742860800</td><td>actor</td><td>null</td></tr><tr><td>!Mystery Girl!</td><td>\\N</td><td>\\N</td><td>actress</td><td>tt0136517</td><td>1742860800</td><td>actress</td><td>null</td></tr><tr><td>!Nqate Xqamxebe</td><td>\\N</td><td>\\N</td><td>\\N</td><td>tt0262452</td><td>1742860800</td><td>\\N</td><td>null</td></tr><tr><td>!llmind</td><td>\\N</td><td>\\N</td><td>\\N</td><td>\\N</td><td>1742860800</td><td>\\N</td><td>null</td></tr><tr><td>\"Cowboy\" Eddie Long</td><td>\\N</td><td>\\N</td><td>\\N</td><td>\\N</td><td>1742860800</td><td>\\N</td><td>null</td></tr><tr><td>\"GALA\" Halyna Koksharova</td><td>\\N</td><td>\\N</td><td>\\N</td><td>\\N</td><td>1742860800</td><td>\\N</td><td>null</td></tr><tr><td>\"Jungle Joe\" Fortunato</td><td>\\N</td><td>\\N</td><td>\\N</td><td>\\N</td><td>1742860800</td><td>\\N</td><td>null</td></tr><tr><td>\"Laughing\"Larry Berger</td><td>\\N</td><td>\\N</td><td>\\N</td><td>\\N</td><td>1742860800</td><td>\\N</td><td>null</td></tr><tr><td>\"Luna\" Ashlee Searles</td><td>\\N</td><td>\\N</td><td>\\N</td><td>\\N</td><td>1742860800</td><td>\\N</td><td>null</td></tr><tr><td>\"Stone\" Robert A Stone III</td><td>1982</td><td>\\N</td><td>miscellaneous,camera_department,actor</td><td>tt1648179,tt1872194,tt1980929,tt2392137</td><td>1742860800</td><td>miscellaneous</td><td>43</td></tr><tr><td>\"Thank You\" credits for All Things Must Pass</td><td>\\N</td><td>\\N</td><td>\\N</td><td>\\N</td><td>1742860800</td><td>\\N</td><td>null</td></tr><tr><td>#1 FanGirl</td><td>\\N</td><td>\\N</td><td>\\N</td><td>\\N</td><td>1742860800</td><td>\\N</td><td>null</td></tr><tr><td>#1 Thomas Fans Models</td><td>\\N</td><td>\\N</td><td>visual_effects</td><td>tt29518666,tt35657232</td><td>1742860800</td><td>visual_effects</td><td>null</td></tr><tr><td>#28 Kikuchi</td><td>\\N</td><td>\\N</td><td>director</td><td>tt12950978</td><td>1742860800</td><td>director</td><td>null</td></tr><tr><td>#HurricaneSwimTeam</td><td>\\N</td><td>\\N</td><td>\\N</td><td>tt22463624</td><td>1742860800</td><td>\\N</td><td>null</td></tr><tr><td>#LeaveNoOneBehind</td><td>\\N</td><td>\\N</td><td>\\N</td><td>tt18776672</td><td>1742860800</td><td>\\N</td><td>null</td></tr><tr><td>#NoTalking</td><td>\\N</td><td>\\N</td><td>\\N</td><td>tt15152292</td><td>1742860800</td><td>\\N</td><td>null</td></tr><tr><td>#TheAccidentals</td><td>\\N</td><td>\\N</td><td>\\N</td><td>tt16247448</td><td>1742860800</td><td>\\N</td><td>null</td></tr><tr><td>$ E N E R I E</td><td>\\N</td><td>\\N</td><td>\\N</td><td>\\N</td><td>1742860800</td><td>\\N</td><td>null</td></tr></tbody></table></div>"
      ]
     },
     "metadata": {
      "application/vnd.databricks.v1+output": {
       "addedWidgets": {},
       "aggData": [],
       "aggError": "",
       "aggOverflow": false,
       "aggSchema": [],
       "aggSeriesLimitReached": false,
       "aggType": "",
       "arguments": {},
       "columnCustomDisplayInfos": {},
       "data": [
        [
         "!'aru Ikhuisi Piet Berendse",
         "\\N",
         "\\N",
         "\\N",
         "tt4245110",
         1742860800,
         "\\N",
         null
        ],
        [
         "!Gubi Tietie",
         "\\N",
         "\\N",
         "actor",
         "tt2364626",
         1742860800,
         "actor",
         null
        ],
        [
         "!Mystery Girl!",
         "\\N",
         "\\N",
         "actress",
         "tt0136517",
         1742860800,
         "actress",
         null
        ],
        [
         "!Nqate Xqamxebe",
         "\\N",
         "\\N",
         "\\N",
         "tt0262452",
         1742860800,
         "\\N",
         null
        ],
        [
         "!llmind",
         "\\N",
         "\\N",
         "\\N",
         "\\N",
         1742860800,
         "\\N",
         null
        ],
        [
         "\"Cowboy\" Eddie Long",
         "\\N",
         "\\N",
         "\\N",
         "\\N",
         1742860800,
         "\\N",
         null
        ],
        [
         "\"GALA\" Halyna Koksharova",
         "\\N",
         "\\N",
         "\\N",
         "\\N",
         1742860800,
         "\\N",
         null
        ],
        [
         "\"Jungle Joe\" Fortunato",
         "\\N",
         "\\N",
         "\\N",
         "\\N",
         1742860800,
         "\\N",
         null
        ],
        [
         "\"Laughing\"Larry Berger",
         "\\N",
         "\\N",
         "\\N",
         "\\N",
         1742860800,
         "\\N",
         null
        ],
        [
         "\"Luna\" Ashlee Searles",
         "\\N",
         "\\N",
         "\\N",
         "\\N",
         1742860800,
         "\\N",
         null
        ],
        [
         "\"Stone\" Robert A Stone III",
         "1982",
         "\\N",
         "miscellaneous,camera_department,actor",
         "tt1648179,tt1872194,tt1980929,tt2392137",
         1742860800,
         "miscellaneous",
         43
        ],
        [
         "\"Thank You\" credits for All Things Must Pass",
         "\\N",
         "\\N",
         "\\N",
         "\\N",
         1742860800,
         "\\N",
         null
        ],
        [
         "#1 FanGirl",
         "\\N",
         "\\N",
         "\\N",
         "\\N",
         1742860800,
         "\\N",
         null
        ],
        [
         "#1 Thomas Fans Models",
         "\\N",
         "\\N",
         "visual_effects",
         "tt29518666,tt35657232",
         1742860800,
         "visual_effects",
         null
        ],
        [
         "#28 Kikuchi",
         "\\N",
         "\\N",
         "director",
         "tt12950978",
         1742860800,
         "director",
         null
        ],
        [
         "#HurricaneSwimTeam",
         "\\N",
         "\\N",
         "\\N",
         "tt22463624",
         1742860800,
         "\\N",
         null
        ],
        [
         "#LeaveNoOneBehind",
         "\\N",
         "\\N",
         "\\N",
         "tt18776672",
         1742860800,
         "\\N",
         null
        ],
        [
         "#NoTalking",
         "\\N",
         "\\N",
         "\\N",
         "tt15152292",
         1742860800,
         "\\N",
         null
        ],
        [
         "#TheAccidentals",
         "\\N",
         "\\N",
         "\\N",
         "tt16247448",
         1742860800,
         "\\N",
         null
        ],
        [
         "$ E N E R I E",
         "\\N",
         "\\N",
         "\\N",
         "\\N",
         1742860800,
         "\\N",
         null
        ]
       ],
       "datasetInfos": [],
       "dbfsResultPath": null,
       "isJsonSchema": true,
       "metadata": {},
       "overflow": false,
       "plotOptions": {
        "customPlotOptions": {},
        "displayType": "table",
        "pivotAggregation": null,
        "pivotColumns": null,
        "xColumns": null,
        "yColumns": null
       },
       "removedWidgets": [],
       "schema": [
        {
         "metadata": "{}",
         "name": "Primary Name",
         "type": "\"string\""
        },
        {
         "metadata": "{}",
         "name": "Birth Year",
         "type": "\"string\""
        },
        {
         "metadata": "{}",
         "name": "Death Year",
         "type": "\"string\""
        },
        {
         "metadata": "{}",
         "name": "Primary Profession",
         "type": "\"string\""
        },
        {
         "metadata": "{}",
         "name": "Known For Titles",
         "type": "\"string\""
        },
        {
         "metadata": "{}",
         "name": "Time Of Execution",
         "type": "\"long\""
        },
        {
         "metadata": "{}",
         "name": "Main Profession",
         "type": "\"string\""
        },
        {
         "metadata": "{}",
         "name": "Age",
         "type": "\"long\""
        }
       ],
       "type": "table"
      }
     },
     "output_type": "display_data"
    },
    {
     "name": "stdout",
     "output_type": "stream",
     "text": [
      "The most popular first name is 'David': 126173\n"
     ]
    }
   ],
   "source": [
    "from pyspark.sql.functions import unix_timestamp, current_date, split, element_at, col, desc, asc, when, lit, year\n",
    "\n",
    "NamesModifiedDf = namesDf\n",
    "# epoch\n",
    "NamesModifiedDf = NamesModifiedDf.withColumn(\"timeOfExecution\", unix_timestamp(current_date()))\n",
    "# main profession\n",
    "NamesModifiedDf = NamesModifiedDf.withColumn(\"mainProfession\", \n",
    "                                            element_at(split(col(\"primaryProfession\"), \",\"), 1))\n",
    "# most popular name:\n",
    "mostPopularNameDf = NamesModifiedDf.withColumn(\"firstName\", \n",
    "                                             element_at(split(col(\"primaryName\"), \" \"), 1)) \\\n",
    "                                   .select(\"firstName\") \\\n",
    "                                   .groupBy(\"firstName\") \\\n",
    "                                   .count() \\\n",
    "                                   .orderBy(desc(\"count\"))\n",
    "\n",
    "mostPopularName = mostPopularNameDf.first()\n",
    "\n",
    "# Actors age\n",
    "current_year = year(current_date())\n",
    "\n",
    "# Calculate age\n",
    "NamesModifiedDf = NamesModifiedDf.withColumn(\n",
    "    \"age\",\n",
    "    when(\n",
    "        (col(\"deathYear\") == \"\\\\N\") | (col(\"deathYear\").isNull()),\n",
    "        current_year - col(\"birthYear\").cast(\"int\")  # Still alive\n",
    "    ).otherwise(\n",
    "        col(\"deathYear\").cast(\"int\") - col(\"birthYear\").cast(\"int\")  # Deceased\n",
    "    )\n",
    ")\n",
    "\n",
    "# Dropping nconst \n",
    "NamesModifiedDf = NamesModifiedDf.drop(\"nconst\")\n",
    "\n",
    "# Column capitalization and added spaces\n",
    "def format_column_name(col_name):\n",
    "    spaced_name = ''.join([' ' + c if c.isupper() else c for c in col_name])\n",
    "    spaced_name = spaced_name.strip()\n",
    "    return ' '.join(word.capitalize() for word in spaced_name.split(' '))\n",
    "\n",
    "old_columns = NamesModifiedDf.columns\n",
    "new_columns = [format_column_name(col) for col in old_columns]\n",
    "for old_col, new_col in zip(old_columns, new_columns):\n",
    "    NamesModifiedDf = NamesModifiedDf.withColumnRenamed(old_col, new_col)\n",
    "\n",
    "# Sort by name ascending\n",
    "NamesModifiedDf = NamesModifiedDf.orderBy(asc(\"Primary Name\"))\n",
    "\n",
    "display(NamesModifiedDf.head(20))\n",
    "print(f\"The most popular first name is '{mostPopularName['firstName']}': {mostPopularName['count']}\")"
   ]
  },
  {
   "cell_type": "markdown",
   "metadata": {
    "application/vnd.databricks.v1+cell": {
     "cellMetadata": {},
     "inputWidgets": {},
     "nuid": "f86d9d14-5103-4d4a-8df2-cec361db347d",
     "showTitle": false,
     "tableResultSettingsMap": {},
     "title": ""
    }
   },
   "source": [
    "Movies.csv\n",
    "* Dodaj kolumnę z wartością czasu wykonania notatnika w formacie epoch\n",
    "* Dodaj kolumnę która wylicza ile lat upłynęło od publikacji filmu\n",
    "* Dodaj kolumnę która pokaże budżet filmu jako wartość numeryczną, (trzeba usunac znaki walut)\n",
    "* Usuń wiersze z dataframe gdzie wartości są null"
   ]
  },
  {
   "cell_type": "code",
   "execution_count": 0,
   "metadata": {
    "application/vnd.databricks.v1+cell": {
     "cellMetadata": {
      "byteLimit": 2048000,
      "rowLimit": 10000
     },
     "inputWidgets": {},
     "nuid": "dc238ac0-9f22-4685-b2d2-1a074e813334",
     "showTitle": false,
     "tableResultSettingsMap": {},
     "title": ""
    }
   },
   "outputs": [
    {
     "data": {
      "text/html": [
       "<style scoped>\n",
       "  .table-result-container {\n",
       "    max-height: 300px;\n",
       "    overflow: auto;\n",
       "  }\n",
       "  table, th, td {\n",
       "    border: 1px solid black;\n",
       "    border-collapse: collapse;\n",
       "  }\n",
       "  th, td {\n",
       "    padding: 5px;\n",
       "  }\n",
       "  th {\n",
       "    text-align: left;\n",
       "  }\n",
       "</style><div class='table-result-container'><table class='table-result'><thead style='background-color: white'><tr><th>tconst</th><th>titleType</th><th>primaryTitle</th><th>originalTitle</th><th>isAdult</th><th>startYear</th><th>endYear</th><th>runtimeMinutes</th><th>genres</th></tr></thead><tbody><tr><td>tt0000001</td><td>short</td><td>Carmencita</td><td>Carmencita</td><td>0</td><td>1894</td><td>\\N</td><td>1</td><td>Documentary,Short</td></tr><tr><td>tt0000002</td><td>short</td><td>Le clown et ses chiens</td><td>Le clown et ses chiens</td><td>0</td><td>1892</td><td>\\N</td><td>5</td><td>Animation,Short</td></tr><tr><td>tt0000003</td><td>short</td><td>Poor Pierrot</td><td>Pauvre Pierrot</td><td>0</td><td>1892</td><td>\\N</td><td>5</td><td>Animation,Comedy,Romance</td></tr><tr><td>tt0000004</td><td>short</td><td>Un bon bock</td><td>Un bon bock</td><td>0</td><td>1892</td><td>\\N</td><td>12</td><td>Animation,Short</td></tr><tr><td>tt0000005</td><td>short</td><td>Blacksmith Scene</td><td>Blacksmith Scene</td><td>0</td><td>1893</td><td>\\N</td><td>1</td><td>Short</td></tr><tr><td>tt0000006</td><td>short</td><td>Chinese Opium Den</td><td>Chinese Opium Den</td><td>0</td><td>1894</td><td>\\N</td><td>1</td><td>Short</td></tr><tr><td>tt0000007</td><td>short</td><td>Corbett and Courtney Before the Kinetograph</td><td>Corbett and Courtney Before the Kinetograph</td><td>0</td><td>1894</td><td>\\N</td><td>1</td><td>Short,Sport</td></tr><tr><td>tt0000008</td><td>short</td><td>Edison Kinetoscopic Record of a Sneeze</td><td>Edison Kinetoscopic Record of a Sneeze</td><td>0</td><td>1894</td><td>\\N</td><td>1</td><td>Documentary,Short</td></tr><tr><td>tt0000009</td><td>movie</td><td>Miss Jerry</td><td>Miss Jerry</td><td>0</td><td>1894</td><td>\\N</td><td>45</td><td>Romance</td></tr><tr><td>tt0000010</td><td>short</td><td>Leaving the Factory</td><td>La sortie de l'usine Lumière à Lyon</td><td>0</td><td>1895</td><td>\\N</td><td>1</td><td>Documentary,Short</td></tr><tr><td>tt0000011</td><td>short</td><td>Akrobatisches Potpourri</td><td>Akrobatisches Potpourri</td><td>0</td><td>1895</td><td>\\N</td><td>1</td><td>Documentary,Short</td></tr><tr><td>tt0000012</td><td>short</td><td>The Arrival of a Train</td><td>L'arrivée d'un train à La Ciotat</td><td>0</td><td>1896</td><td>\\N</td><td>1</td><td>Documentary,Short</td></tr><tr><td>tt0000013</td><td>short</td><td>The Photographical Congress Arrives in Lyon</td><td>Le débarquement du congrès de photographie à Lyon</td><td>0</td><td>1895</td><td>\\N</td><td>1</td><td>Documentary,Short</td></tr><tr><td>tt0000014</td><td>short</td><td>The Waterer Watered</td><td>L'arroseur arrosé</td><td>0</td><td>1895</td><td>\\N</td><td>1</td><td>Comedy,Short</td></tr><tr><td>tt0000015</td><td>short</td><td>Around a Cabin</td><td>Autour d'une cabine</td><td>0</td><td>1894</td><td>\\N</td><td>2</td><td>Animation,Comedy,Short</td></tr><tr><td>tt0000016</td><td>short</td><td>Boat Leaving the Port</td><td>Barque sortant du port</td><td>0</td><td>1895</td><td>\\N</td><td>1</td><td>Documentary,Short</td></tr><tr><td>tt0000017</td><td>short</td><td>Italienischer Bauerntanz</td><td>Italienischer Bauerntanz</td><td>0</td><td>1895</td><td>\\N</td><td>1</td><td>Documentary,Short</td></tr><tr><td>tt0000018</td><td>short</td><td>Das boxende Känguruh</td><td>Das boxende Känguruh</td><td>0</td><td>1895</td><td>\\N</td><td>1</td><td>Short,Sport</td></tr><tr><td>tt0000019</td><td>short</td><td>The Clown Barber</td><td>The Clown Barber</td><td>0</td><td>1898</td><td>\\N</td><td>\\N</td><td>Comedy,Short</td></tr><tr><td>tt0000020</td><td>short</td><td>The Derby 1895</td><td>The Derby 1895</td><td>0</td><td>1895</td><td>\\N</td><td>1</td><td>Documentary,Short,Sport</td></tr></tbody></table></div>"
      ]
     },
     "metadata": {
      "application/vnd.databricks.v1+output": {
       "addedWidgets": {},
       "aggData": [],
       "aggError": "",
       "aggOverflow": false,
       "aggSchema": [],
       "aggSeriesLimitReached": false,
       "aggType": "",
       "arguments": {},
       "columnCustomDisplayInfos": {},
       "data": [
        [
         "tt0000001",
         "short",
         "Carmencita",
         "Carmencita",
         "0",
         "1894",
         "\\N",
         "1",
         "Documentary,Short"
        ],
        [
         "tt0000002",
         "short",
         "Le clown et ses chiens",
         "Le clown et ses chiens",
         "0",
         "1892",
         "\\N",
         "5",
         "Animation,Short"
        ],
        [
         "tt0000003",
         "short",
         "Poor Pierrot",
         "Pauvre Pierrot",
         "0",
         "1892",
         "\\N",
         "5",
         "Animation,Comedy,Romance"
        ],
        [
         "tt0000004",
         "short",
         "Un bon bock",
         "Un bon bock",
         "0",
         "1892",
         "\\N",
         "12",
         "Animation,Short"
        ],
        [
         "tt0000005",
         "short",
         "Blacksmith Scene",
         "Blacksmith Scene",
         "0",
         "1893",
         "\\N",
         "1",
         "Short"
        ],
        [
         "tt0000006",
         "short",
         "Chinese Opium Den",
         "Chinese Opium Den",
         "0",
         "1894",
         "\\N",
         "1",
         "Short"
        ],
        [
         "tt0000007",
         "short",
         "Corbett and Courtney Before the Kinetograph",
         "Corbett and Courtney Before the Kinetograph",
         "0",
         "1894",
         "\\N",
         "1",
         "Short,Sport"
        ],
        [
         "tt0000008",
         "short",
         "Edison Kinetoscopic Record of a Sneeze",
         "Edison Kinetoscopic Record of a Sneeze",
         "0",
         "1894",
         "\\N",
         "1",
         "Documentary,Short"
        ],
        [
         "tt0000009",
         "movie",
         "Miss Jerry",
         "Miss Jerry",
         "0",
         "1894",
         "\\N",
         "45",
         "Romance"
        ],
        [
         "tt0000010",
         "short",
         "Leaving the Factory",
         "La sortie de l'usine Lumière à Lyon",
         "0",
         "1895",
         "\\N",
         "1",
         "Documentary,Short"
        ],
        [
         "tt0000011",
         "short",
         "Akrobatisches Potpourri",
         "Akrobatisches Potpourri",
         "0",
         "1895",
         "\\N",
         "1",
         "Documentary,Short"
        ],
        [
         "tt0000012",
         "short",
         "The Arrival of a Train",
         "L'arrivée d'un train à La Ciotat",
         "0",
         "1896",
         "\\N",
         "1",
         "Documentary,Short"
        ],
        [
         "tt0000013",
         "short",
         "The Photographical Congress Arrives in Lyon",
         "Le débarquement du congrès de photographie à Lyon",
         "0",
         "1895",
         "\\N",
         "1",
         "Documentary,Short"
        ],
        [
         "tt0000014",
         "short",
         "The Waterer Watered",
         "L'arroseur arrosé",
         "0",
         "1895",
         "\\N",
         "1",
         "Comedy,Short"
        ],
        [
         "tt0000015",
         "short",
         "Around a Cabin",
         "Autour d'une cabine",
         "0",
         "1894",
         "\\N",
         "2",
         "Animation,Comedy,Short"
        ],
        [
         "tt0000016",
         "short",
         "Boat Leaving the Port",
         "Barque sortant du port",
         "0",
         "1895",
         "\\N",
         "1",
         "Documentary,Short"
        ],
        [
         "tt0000017",
         "short",
         "Italienischer Bauerntanz",
         "Italienischer Bauerntanz",
         "0",
         "1895",
         "\\N",
         "1",
         "Documentary,Short"
        ],
        [
         "tt0000018",
         "short",
         "Das boxende Känguruh",
         "Das boxende Känguruh",
         "0",
         "1895",
         "\\N",
         "1",
         "Short,Sport"
        ],
        [
         "tt0000019",
         "short",
         "The Clown Barber",
         "The Clown Barber",
         "0",
         "1898",
         "\\N",
         "\\N",
         "Comedy,Short"
        ],
        [
         "tt0000020",
         "short",
         "The Derby 1895",
         "The Derby 1895",
         "0",
         "1895",
         "\\N",
         "1",
         "Documentary,Short,Sport"
        ]
       ],
       "datasetInfos": [],
       "dbfsResultPath": null,
       "isJsonSchema": true,
       "metadata": {},
       "overflow": false,
       "plotOptions": {
        "customPlotOptions": {},
        "displayType": "table",
        "pivotAggregation": null,
        "pivotColumns": null,
        "xColumns": null,
        "yColumns": null
       },
       "removedWidgets": [],
       "schema": [
        {
         "metadata": "{}",
         "name": "tconst",
         "type": "\"string\""
        },
        {
         "metadata": "{}",
         "name": "titleType",
         "type": "\"string\""
        },
        {
         "metadata": "{}",
         "name": "primaryTitle",
         "type": "\"string\""
        },
        {
         "metadata": "{}",
         "name": "originalTitle",
         "type": "\"string\""
        },
        {
         "metadata": "{}",
         "name": "isAdult",
         "type": "\"string\""
        },
        {
         "metadata": "{}",
         "name": "startYear",
         "type": "\"string\""
        },
        {
         "metadata": "{}",
         "name": "endYear",
         "type": "\"string\""
        },
        {
         "metadata": "{}",
         "name": "runtimeMinutes",
         "type": "\"string\""
        },
        {
         "metadata": "{}",
         "name": "genres",
         "type": "\"string\""
        }
       ],
       "type": "table"
      }
     },
     "output_type": "display_data"
    }
   ],
   "source": [
    "filePath = \"dbfs:/FileStore/tables/title_basics.tsv\"\n",
    "titlesDf = spark.read.format(\"csv\") \\\n",
    "              .option(\"header\",\"true\") \\\n",
    "              .option(\"delimiter\", \"\\t\") \\\n",
    "              .option(\"inferSchema\",\"true\") \\\n",
    "              .load(filePath)\n",
    "\n",
    "display(titlesDf.head(20))"
   ]
  },
  {
   "cell_type": "markdown",
   "metadata": {
    "application/vnd.databricks.v1+cell": {
     "cellMetadata": {},
     "inputWidgets": {},
     "nuid": "5784fca3-eb0d-4f55-a7c9-fcbd6120c2d8",
     "showTitle": false,
     "tableResultSettingsMap": {},
     "title": ""
    }
   },
   "source": [
    "### Tutaj to samo, więc lekko zmodyfikuje\n",
    "* Dodaj kolumnę z wartością czasu wykonania notatnika w formacie epoch\n",
    "* Dodaj kolumnę która wylicza ile lat upłynęło od publikacji filmu\n",
    "* Dodaj kolumnę która pokaże długość filmu w godzinach\n",
    "* Usuń wiersze z dataframe gdzie wartości są null\n"
   ]
  },
  {
   "cell_type": "code",
   "execution_count": 0,
   "metadata": {
    "application/vnd.databricks.v1+cell": {
     "cellMetadata": {
      "byteLimit": 2048000,
      "rowLimit": 10000
     },
     "inputWidgets": {},
     "nuid": "343bc78f-7f48-4943-8997-e92f98f16d35",
     "showTitle": true,
     "tableResultSettingsMap": {},
     "title": "i"
    }
   },
   "outputs": [
    {
     "data": {
      "text/html": [
       "<style scoped>\n",
       "  .table-result-container {\n",
       "    max-height: 300px;\n",
       "    overflow: auto;\n",
       "  }\n",
       "  table, th, td {\n",
       "    border: 1px solid black;\n",
       "    border-collapse: collapse;\n",
       "  }\n",
       "  th, td {\n",
       "    padding: 5px;\n",
       "  }\n",
       "  th {\n",
       "    text-align: left;\n",
       "  }\n",
       "</style><div class='table-result-container'><table class='table-result'><thead style='background-color: white'><tr><th>tconst</th><th>titleType</th><th>primaryTitle</th><th>originalTitle</th><th>isAdult</th><th>startYear</th><th>endYear</th><th>runtimeMinutes</th><th>genres</th><th>timeOfExecution</th><th>age</th><th>runtimeHours</th></tr></thead><tbody><tr><td>tt0000001</td><td>short</td><td>Carmencita</td><td>Carmencita</td><td>0</td><td>1894</td><td>\\N</td><td>1</td><td>Documentary,Short</td><td>1742860800</td><td>131.0</td><td>0.02</td></tr><tr><td>tt0000002</td><td>short</td><td>Le clown et ses chiens</td><td>Le clown et ses chiens</td><td>0</td><td>1892</td><td>\\N</td><td>5</td><td>Animation,Short</td><td>1742860800</td><td>133.0</td><td>0.08</td></tr><tr><td>tt0000003</td><td>short</td><td>Poor Pierrot</td><td>Pauvre Pierrot</td><td>0</td><td>1892</td><td>\\N</td><td>5</td><td>Animation,Comedy,Romance</td><td>1742860800</td><td>133.0</td><td>0.08</td></tr><tr><td>tt0000004</td><td>short</td><td>Un bon bock</td><td>Un bon bock</td><td>0</td><td>1892</td><td>\\N</td><td>12</td><td>Animation,Short</td><td>1742860800</td><td>133.0</td><td>0.2</td></tr><tr><td>tt0000005</td><td>short</td><td>Blacksmith Scene</td><td>Blacksmith Scene</td><td>0</td><td>1893</td><td>\\N</td><td>1</td><td>Short</td><td>1742860800</td><td>132.0</td><td>0.02</td></tr><tr><td>tt0000006</td><td>short</td><td>Chinese Opium Den</td><td>Chinese Opium Den</td><td>0</td><td>1894</td><td>\\N</td><td>1</td><td>Short</td><td>1742860800</td><td>131.0</td><td>0.02</td></tr><tr><td>tt0000007</td><td>short</td><td>Corbett and Courtney Before the Kinetograph</td><td>Corbett and Courtney Before the Kinetograph</td><td>0</td><td>1894</td><td>\\N</td><td>1</td><td>Short,Sport</td><td>1742860800</td><td>131.0</td><td>0.02</td></tr><tr><td>tt0000008</td><td>short</td><td>Edison Kinetoscopic Record of a Sneeze</td><td>Edison Kinetoscopic Record of a Sneeze</td><td>0</td><td>1894</td><td>\\N</td><td>1</td><td>Documentary,Short</td><td>1742860800</td><td>131.0</td><td>0.02</td></tr><tr><td>tt0000009</td><td>movie</td><td>Miss Jerry</td><td>Miss Jerry</td><td>0</td><td>1894</td><td>\\N</td><td>45</td><td>Romance</td><td>1742860800</td><td>131.0</td><td>0.75</td></tr><tr><td>tt0000010</td><td>short</td><td>Leaving the Factory</td><td>La sortie de l'usine Lumière à Lyon</td><td>0</td><td>1895</td><td>\\N</td><td>1</td><td>Documentary,Short</td><td>1742860800</td><td>130.0</td><td>0.02</td></tr><tr><td>tt0000011</td><td>short</td><td>Akrobatisches Potpourri</td><td>Akrobatisches Potpourri</td><td>0</td><td>1895</td><td>\\N</td><td>1</td><td>Documentary,Short</td><td>1742860800</td><td>130.0</td><td>0.02</td></tr><tr><td>tt0000012</td><td>short</td><td>The Arrival of a Train</td><td>L'arrivée d'un train à La Ciotat</td><td>0</td><td>1896</td><td>\\N</td><td>1</td><td>Documentary,Short</td><td>1742860800</td><td>129.0</td><td>0.02</td></tr><tr><td>tt0000013</td><td>short</td><td>The Photographical Congress Arrives in Lyon</td><td>Le débarquement du congrès de photographie à Lyon</td><td>0</td><td>1895</td><td>\\N</td><td>1</td><td>Documentary,Short</td><td>1742860800</td><td>130.0</td><td>0.02</td></tr><tr><td>tt0000014</td><td>short</td><td>The Waterer Watered</td><td>L'arroseur arrosé</td><td>0</td><td>1895</td><td>\\N</td><td>1</td><td>Comedy,Short</td><td>1742860800</td><td>130.0</td><td>0.02</td></tr><tr><td>tt0000015</td><td>short</td><td>Around a Cabin</td><td>Autour d'une cabine</td><td>0</td><td>1894</td><td>\\N</td><td>2</td><td>Animation,Comedy,Short</td><td>1742860800</td><td>131.0</td><td>0.03</td></tr><tr><td>tt0000016</td><td>short</td><td>Boat Leaving the Port</td><td>Barque sortant du port</td><td>0</td><td>1895</td><td>\\N</td><td>1</td><td>Documentary,Short</td><td>1742860800</td><td>130.0</td><td>0.02</td></tr><tr><td>tt0000017</td><td>short</td><td>Italienischer Bauerntanz</td><td>Italienischer Bauerntanz</td><td>0</td><td>1895</td><td>\\N</td><td>1</td><td>Documentary,Short</td><td>1742860800</td><td>130.0</td><td>0.02</td></tr><tr><td>tt0000018</td><td>short</td><td>Das boxende Känguruh</td><td>Das boxende Känguruh</td><td>0</td><td>1895</td><td>\\N</td><td>1</td><td>Short,Sport</td><td>1742860800</td><td>130.0</td><td>0.02</td></tr><tr><td>tt0000020</td><td>short</td><td>The Derby 1895</td><td>The Derby 1895</td><td>0</td><td>1895</td><td>\\N</td><td>1</td><td>Documentary,Short,Sport</td><td>1742860800</td><td>130.0</td><td>0.02</td></tr><tr><td>tt0000022</td><td>short</td><td>Blacksmith Scene</td><td>Les forgerons</td><td>0</td><td>1895</td><td>\\N</td><td>1</td><td>Documentary,Short</td><td>1742860800</td><td>130.0</td><td>0.02</td></tr></tbody></table></div>"
      ]
     },
     "metadata": {
      "application/vnd.databricks.v1+output": {
       "addedWidgets": {},
       "aggData": [],
       "aggError": "",
       "aggOverflow": false,
       "aggSchema": [],
       "aggSeriesLimitReached": false,
       "aggType": "",
       "arguments": {},
       "columnCustomDisplayInfos": {},
       "data": [
        [
         "tt0000001",
         "short",
         "Carmencita",
         "Carmencita",
         "0",
         "1894",
         "\\N",
         "1",
         "Documentary,Short",
         1742860800,
         131,
         0.02
        ],
        [
         "tt0000002",
         "short",
         "Le clown et ses chiens",
         "Le clown et ses chiens",
         "0",
         "1892",
         "\\N",
         "5",
         "Animation,Short",
         1742860800,
         133,
         0.08
        ],
        [
         "tt0000003",
         "short",
         "Poor Pierrot",
         "Pauvre Pierrot",
         "0",
         "1892",
         "\\N",
         "5",
         "Animation,Comedy,Romance",
         1742860800,
         133,
         0.08
        ],
        [
         "tt0000004",
         "short",
         "Un bon bock",
         "Un bon bock",
         "0",
         "1892",
         "\\N",
         "12",
         "Animation,Short",
         1742860800,
         133,
         0.2
        ],
        [
         "tt0000005",
         "short",
         "Blacksmith Scene",
         "Blacksmith Scene",
         "0",
         "1893",
         "\\N",
         "1",
         "Short",
         1742860800,
         132,
         0.02
        ],
        [
         "tt0000006",
         "short",
         "Chinese Opium Den",
         "Chinese Opium Den",
         "0",
         "1894",
         "\\N",
         "1",
         "Short",
         1742860800,
         131,
         0.02
        ],
        [
         "tt0000007",
         "short",
         "Corbett and Courtney Before the Kinetograph",
         "Corbett and Courtney Before the Kinetograph",
         "0",
         "1894",
         "\\N",
         "1",
         "Short,Sport",
         1742860800,
         131,
         0.02
        ],
        [
         "tt0000008",
         "short",
         "Edison Kinetoscopic Record of a Sneeze",
         "Edison Kinetoscopic Record of a Sneeze",
         "0",
         "1894",
         "\\N",
         "1",
         "Documentary,Short",
         1742860800,
         131,
         0.02
        ],
        [
         "tt0000009",
         "movie",
         "Miss Jerry",
         "Miss Jerry",
         "0",
         "1894",
         "\\N",
         "45",
         "Romance",
         1742860800,
         131,
         0.75
        ],
        [
         "tt0000010",
         "short",
         "Leaving the Factory",
         "La sortie de l'usine Lumière à Lyon",
         "0",
         "1895",
         "\\N",
         "1",
         "Documentary,Short",
         1742860800,
         130,
         0.02
        ],
        [
         "tt0000011",
         "short",
         "Akrobatisches Potpourri",
         "Akrobatisches Potpourri",
         "0",
         "1895",
         "\\N",
         "1",
         "Documentary,Short",
         1742860800,
         130,
         0.02
        ],
        [
         "tt0000012",
         "short",
         "The Arrival of a Train",
         "L'arrivée d'un train à La Ciotat",
         "0",
         "1896",
         "\\N",
         "1",
         "Documentary,Short",
         1742860800,
         129,
         0.02
        ],
        [
         "tt0000013",
         "short",
         "The Photographical Congress Arrives in Lyon",
         "Le débarquement du congrès de photographie à Lyon",
         "0",
         "1895",
         "\\N",
         "1",
         "Documentary,Short",
         1742860800,
         130,
         0.02
        ],
        [
         "tt0000014",
         "short",
         "The Waterer Watered",
         "L'arroseur arrosé",
         "0",
         "1895",
         "\\N",
         "1",
         "Comedy,Short",
         1742860800,
         130,
         0.02
        ],
        [
         "tt0000015",
         "short",
         "Around a Cabin",
         "Autour d'une cabine",
         "0",
         "1894",
         "\\N",
         "2",
         "Animation,Comedy,Short",
         1742860800,
         131,
         0.03
        ],
        [
         "tt0000016",
         "short",
         "Boat Leaving the Port",
         "Barque sortant du port",
         "0",
         "1895",
         "\\N",
         "1",
         "Documentary,Short",
         1742860800,
         130,
         0.02
        ],
        [
         "tt0000017",
         "short",
         "Italienischer Bauerntanz",
         "Italienischer Bauerntanz",
         "0",
         "1895",
         "\\N",
         "1",
         "Documentary,Short",
         1742860800,
         130,
         0.02
        ],
        [
         "tt0000018",
         "short",
         "Das boxende Känguruh",
         "Das boxende Känguruh",
         "0",
         "1895",
         "\\N",
         "1",
         "Short,Sport",
         1742860800,
         130,
         0.02
        ],
        [
         "tt0000020",
         "short",
         "The Derby 1895",
         "The Derby 1895",
         "0",
         "1895",
         "\\N",
         "1",
         "Documentary,Short,Sport",
         1742860800,
         130,
         0.02
        ],
        [
         "tt0000022",
         "short",
         "Blacksmith Scene",
         "Les forgerons",
         "0",
         "1895",
         "\\N",
         "1",
         "Documentary,Short",
         1742860800,
         130,
         0.02
        ]
       ],
       "datasetInfos": [],
       "dbfsResultPath": null,
       "isJsonSchema": true,
       "metadata": {},
       "overflow": false,
       "plotOptions": {
        "customPlotOptions": {},
        "displayType": "table",
        "pivotAggregation": null,
        "pivotColumns": null,
        "xColumns": null,
        "yColumns": null
       },
       "removedWidgets": [],
       "schema": [
        {
         "metadata": "{}",
         "name": "tconst",
         "type": "\"string\""
        },
        {
         "metadata": "{}",
         "name": "titleType",
         "type": "\"string\""
        },
        {
         "metadata": "{}",
         "name": "primaryTitle",
         "type": "\"string\""
        },
        {
         "metadata": "{}",
         "name": "originalTitle",
         "type": "\"string\""
        },
        {
         "metadata": "{}",
         "name": "isAdult",
         "type": "\"string\""
        },
        {
         "metadata": "{}",
         "name": "startYear",
         "type": "\"string\""
        },
        {
         "metadata": "{}",
         "name": "endYear",
         "type": "\"string\""
        },
        {
         "metadata": "{}",
         "name": "runtimeMinutes",
         "type": "\"string\""
        },
        {
         "metadata": "{}",
         "name": "genres",
         "type": "\"string\""
        },
        {
         "metadata": "{}",
         "name": "timeOfExecution",
         "type": "\"long\""
        },
        {
         "metadata": "{}",
         "name": "age",
         "type": "\"double\""
        },
        {
         "metadata": "{}",
         "name": "runtimeHours",
         "type": "\"double\""
        }
       ],
       "type": "table"
      }
     },
     "output_type": "display_data"
    }
   ],
   "source": [
    "TitlesModifiedDf = titlesDf\n",
    "# remove nulls\n",
    "TitlesModifiedDf = TitlesModifiedDf.na.drop()\n",
    "\n",
    "# epoch\n",
    "TitlesModifiedDf = TitlesModifiedDf.withColumn(\"timeOfExecution\", unix_timestamp(current_date()))\n",
    "\n",
    "# time from publication\n",
    "current_year = year(current_date())\n",
    "\n",
    "# Calculate age\n",
    "TitlesModifiedDf = TitlesModifiedDf.withColumn(\n",
    "    \"age\",\n",
    "    current_year - col(\"startYear\")\n",
    ")\n",
    "\n",
    "from pyspark.sql.functions import round\n",
    "\n",
    "# Calculate time in hours\n",
    "TitlesModifiedDf = TitlesModifiedDf.withColumn(\n",
    "    \"runtimeHours\",\n",
    "    round(col(\"runtimeMinutes\").cast(\"float\") / 60, 2)\n",
    ")\n",
    "\n",
    "# remove nulls\n",
    "TitlesModifiedDf = TitlesModifiedDf.na.drop()\n",
    "\n",
    "display(TitlesModifiedDf.head(20))"
   ]
  },
  {
   "cell_type": "markdown",
   "metadata": {
    "application/vnd.databricks.v1+cell": {
     "cellMetadata": {},
     "inputWidgets": {},
     "nuid": "18d1e437-12d6-41c0-a8f4-d430ae74431f",
     "showTitle": false,
     "tableResultSettingsMap": {},
     "title": ""
    }
   },
   "source": [
    "ratings.csv\n",
    "* Dodaj kolumnę z wartością czasu wykonania notatnika w formacie epoch\n",
    "* Dla każdego z poniższych wyliczeń nie bierz pod uwagę `nulls` \n",
    "* Kto daje lepsze oceny chłopcy czy dziewczyny dla całego setu\n",
    "* Dla jednej z kolumn zmień typ danych do `long` "
   ]
  },
  {
   "cell_type": "code",
   "execution_count": 0,
   "metadata": {
    "application/vnd.databricks.v1+cell": {
     "cellMetadata": {
      "byteLimit": 2048000,
      "rowLimit": 10000
     },
     "inputWidgets": {},
     "nuid": "75c22c14-a54e-4727-b2ad-f8b631f2b541",
     "showTitle": false,
     "tableResultSettingsMap": {},
     "title": ""
    }
   },
   "outputs": [
    {
     "data": {
      "text/html": [
       "<style scoped>\n",
       "  .table-result-container {\n",
       "    max-height: 300px;\n",
       "    overflow: auto;\n",
       "  }\n",
       "  table, th, td {\n",
       "    border: 1px solid black;\n",
       "    border-collapse: collapse;\n",
       "  }\n",
       "  th, td {\n",
       "    padding: 5px;\n",
       "  }\n",
       "  th {\n",
       "    text-align: left;\n",
       "  }\n",
       "</style><div class='table-result-container'><table class='table-result'><thead style='background-color: white'><tr><th>tconst</th><th>averageRating</th><th>numVotes</th></tr></thead><tbody><tr><td>tt0000001</td><td>5.7</td><td>2142</td></tr><tr><td>tt0000002</td><td>5.5</td><td>290</td></tr><tr><td>tt0000003</td><td>6.4</td><td>2178</td></tr><tr><td>tt0000004</td><td>5.3</td><td>186</td></tr><tr><td>tt0000005</td><td>6.2</td><td>2912</td></tr><tr><td>tt0000006</td><td>5.0</td><td>209</td></tr><tr><td>tt0000007</td><td>5.3</td><td>904</td></tr><tr><td>tt0000008</td><td>5.4</td><td>2289</td></tr><tr><td>tt0000009</td><td>5.4</td><td>222</td></tr><tr><td>tt0000010</td><td>6.8</td><td>7909</td></tr><tr><td>tt0000011</td><td>5.2</td><td>416</td></tr><tr><td>tt0000012</td><td>7.4</td><td>13433</td></tr><tr><td>tt0000013</td><td>5.7</td><td>2061</td></tr><tr><td>tt0000014</td><td>7.1</td><td>6132</td></tr><tr><td>tt0000015</td><td>6.1</td><td>1266</td></tr><tr><td>tt0000016</td><td>5.9</td><td>1651</td></tr><tr><td>tt0000017</td><td>4.6</td><td>378</td></tr><tr><td>tt0000018</td><td>5.2</td><td>660</td></tr><tr><td>tt0000019</td><td>5.2</td><td>34</td></tr><tr><td>tt0000020</td><td>4.7</td><td>408</td></tr></tbody></table></div>"
      ]
     },
     "metadata": {
      "application/vnd.databricks.v1+output": {
       "addedWidgets": {},
       "aggData": [],
       "aggError": "",
       "aggOverflow": false,
       "aggSchema": [],
       "aggSeriesLimitReached": false,
       "aggType": "",
       "arguments": {},
       "columnCustomDisplayInfos": {},
       "data": [
        [
         "tt0000001",
         5.7,
         2142
        ],
        [
         "tt0000002",
         5.5,
         290
        ],
        [
         "tt0000003",
         6.4,
         2178
        ],
        [
         "tt0000004",
         5.3,
         186
        ],
        [
         "tt0000005",
         6.2,
         2912
        ],
        [
         "tt0000006",
         5,
         209
        ],
        [
         "tt0000007",
         5.3,
         904
        ],
        [
         "tt0000008",
         5.4,
         2289
        ],
        [
         "tt0000009",
         5.4,
         222
        ],
        [
         "tt0000010",
         6.8,
         7909
        ],
        [
         "tt0000011",
         5.2,
         416
        ],
        [
         "tt0000012",
         7.4,
         13433
        ],
        [
         "tt0000013",
         5.7,
         2061
        ],
        [
         "tt0000014",
         7.1,
         6132
        ],
        [
         "tt0000015",
         6.1,
         1266
        ],
        [
         "tt0000016",
         5.9,
         1651
        ],
        [
         "tt0000017",
         4.6,
         378
        ],
        [
         "tt0000018",
         5.2,
         660
        ],
        [
         "tt0000019",
         5.2,
         34
        ],
        [
         "tt0000020",
         4.7,
         408
        ]
       ],
       "datasetInfos": [],
       "dbfsResultPath": null,
       "isJsonSchema": true,
       "metadata": {},
       "overflow": false,
       "plotOptions": {
        "customPlotOptions": {},
        "displayType": "table",
        "pivotAggregation": null,
        "pivotColumns": null,
        "xColumns": null,
        "yColumns": null
       },
       "removedWidgets": [],
       "schema": [
        {
         "metadata": "{}",
         "name": "tconst",
         "type": "\"string\""
        },
        {
         "metadata": "{}",
         "name": "averageRating",
         "type": "\"double\""
        },
        {
         "metadata": "{}",
         "name": "numVotes",
         "type": "\"long\""
        }
       ],
       "type": "table"
      }
     },
     "output_type": "display_data"
    }
   ],
   "source": [
    "filePath = \"dbfs:/FileStore/tables/title_ratings.tsv\"\n",
    "ratingsDf = spark.read.format(\"csv\") \\\n",
    "              .option(\"header\",\"true\") \\\n",
    "              .option(\"delimiter\", \"\\t\") \\\n",
    "              .option(\"inferSchema\",\"true\") \\\n",
    "              .load(filePath)\n",
    "\n",
    "display(ratingsDf.head(20))"
   ]
  },
  {
   "cell_type": "code",
   "execution_count": 0,
   "metadata": {
    "application/vnd.databricks.v1+cell": {
     "cellMetadata": {
      "byteLimit": 2048000,
      "rowLimit": 10000
     },
     "inputWidgets": {},
     "nuid": "7a99746d-6221-416e-8b3c-8012bd8c01fc",
     "showTitle": false,
     "tableResultSettingsMap": {},
     "title": ""
    }
   },
   "outputs": [
    {
     "data": {
      "text/html": [
       "<style scoped>\n",
       "  .table-result-container {\n",
       "    max-height: 300px;\n",
       "    overflow: auto;\n",
       "  }\n",
       "  table, th, td {\n",
       "    border: 1px solid black;\n",
       "    border-collapse: collapse;\n",
       "  }\n",
       "  th, td {\n",
       "    padding: 5px;\n",
       "  }\n",
       "  th {\n",
       "    text-align: left;\n",
       "  }\n",
       "</style><div class='table-result-container'><table class='table-result'><thead style='background-color: white'><tr><th>tconst</th><th>titleType</th><th>primaryTitle</th><th>originalTitle</th><th>isAdult</th><th>startYear</th><th>endYear</th><th>runtimeMinutes</th><th>genres</th><th>timeOfExecution</th><th>age</th><th>runtimeHours</th><th>averageRating</th><th>numVotes</th></tr></thead><tbody><tr><td>tt0000002</td><td>short</td><td>Le clown et ses chiens</td><td>Le clown et ses chiens</td><td>0</td><td>1892</td><td>\\N</td><td>5</td><td>Animation,Short</td><td>1742860800</td><td>133.0</td><td>0.08</td><td>5.5</td><td>290</td></tr><tr><td>tt0000004</td><td>short</td><td>Un bon bock</td><td>Un bon bock</td><td>0</td><td>1892</td><td>\\N</td><td>12</td><td>Animation,Short</td><td>1742860800</td><td>133.0</td><td>0.2</td><td>5.3</td><td>186</td></tr><tr><td>tt0000008</td><td>short</td><td>Edison Kinetoscopic Record of a Sneeze</td><td>Edison Kinetoscopic Record of a Sneeze</td><td>0</td><td>1894</td><td>\\N</td><td>1</td><td>Documentary,Short</td><td>1742860800</td><td>131.0</td><td>0.02</td><td>5.4</td><td>2289</td></tr><tr><td>tt0000015</td><td>short</td><td>Around a Cabin</td><td>Autour d'une cabine</td><td>0</td><td>1894</td><td>\\N</td><td>2</td><td>Animation,Comedy,Short</td><td>1742860800</td><td>131.0</td><td>0.03</td><td>6.1</td><td>1266</td></tr><tr><td>tt0000017</td><td>short</td><td>Italienischer Bauerntanz</td><td>Italienischer Bauerntanz</td><td>0</td><td>1895</td><td>\\N</td><td>1</td><td>Documentary,Short</td><td>1742860800</td><td>130.0</td><td>0.02</td><td>4.6</td><td>378</td></tr><tr><td>tt0000108</td><td>short</td><td>Rip Leaving Sleepy Hollow</td><td>Rip Leaving Sleepy Hollow</td><td>0</td><td>1896</td><td>\\N</td><td>1</td><td>Drama,Short</td><td>1742860800</td><td>129.0</td><td>0.02</td><td>4.4</td><td>587</td></tr><tr><td>tt0000169</td><td>short</td><td>Slagsmål i gamla Stockholm</td><td>Slagsmål i gamla Stockholm</td><td>0</td><td>1897</td><td>\\N</td><td>1</td><td>Short</td><td>1742860800</td><td>128.0</td><td>0.02</td><td>4.0</td><td>61</td></tr><tr><td>tt0000170</td><td>short</td><td>The Twins' Tea Party</td><td>The Twins' Tea Party</td><td>0</td><td>1896</td><td>\\N</td><td>1</td><td>Comedy,Short</td><td>1742860800</td><td>129.0</td><td>0.02</td><td>5.2</td><td>295</td></tr><tr><td>tt0000172</td><td>short</td><td>The X-Ray Fiend</td><td>The X-Ray Fiend</td><td>0</td><td>1897</td><td>\\N</td><td>1</td><td>Comedy,Horror,Short</td><td>1742860800</td><td>128.0</td><td>0.02</td><td>6.0</td><td>1141</td></tr><tr><td>tt0000174</td><td>short</td><td>Výstavní párkar a lepic plakátù</td><td>Výstavní párkar a lepic plakátù</td><td>0</td><td>1898</td><td>\\N</td><td>1</td><td>Comedy,Short</td><td>1742860800</td><td>127.0</td><td>0.02</td><td>4.5</td><td>147</td></tr><tr><td>tt0000175</td><td>short</td><td>A Sea Cave Near Lisbon</td><td>A Sea Cave Near Lisbon</td><td>0</td><td>1896</td><td>\\N</td><td>1</td><td>Documentary,Short</td><td>1742860800</td><td>129.0</td><td>0.02</td><td>4.9</td><td>255</td></tr><tr><td>tt0000198</td><td>short</td><td>La fuite en Égypte</td><td>La fuite en Égypte</td><td>0</td><td>1898</td><td>\\N</td><td>1</td><td>Short</td><td>1742860800</td><td>127.0</td><td>0.02</td><td>4.3</td><td>22</td></tr><tr><td>tt0000231</td><td>short</td><td>Portuguese Railway Train</td><td>Portuguese Railway Train</td><td>0</td><td>1896</td><td>\\N</td><td>1</td><td>Documentary,Short</td><td>1742860800</td><td>129.0</td><td>0.02</td><td>3.7</td><td>22</td></tr><tr><td>tt0000242</td><td>short</td><td>The Sign of the Cross</td><td>Le Diable au couvent</td><td>0</td><td>1899</td><td>\\N</td><td>3</td><td>Fantasy,Horror,Short</td><td>1742860800</td><td>126.0</td><td>0.05</td><td>6.4</td><td>1450</td></tr><tr><td>tt0000264</td><td>short</td><td>Summoning the Spirits</td><td>Évocation spirite</td><td>0</td><td>1899</td><td>\\N</td><td>1</td><td>Fantasy,Horror,Short</td><td>1742860800</td><td>126.0</td><td>0.02</td><td>5.7</td><td>522</td></tr><tr><td>tt0000302</td><td>short</td><td>La fée aux choux, ou la naissance des enfants</td><td>La fée aux choux, ou la naissance des enfants</td><td>0</td><td>1900</td><td>\\N</td><td>1</td><td>Short</td><td>1742860800</td><td>125.0</td><td>0.02</td><td>5.3</td><td>321</td></tr><tr><td>tt0000337</td><td>short</td><td>Spanish Bullfight</td><td>Spanish Bullfight</td><td>0</td><td>1900</td><td>\\N</td><td>1</td><td>Short,Sport</td><td>1742860800</td><td>125.0</td><td>0.02</td><td>4.9</td><td>393</td></tr><tr><td>tt0000357</td><td>short</td><td>The Haunted Curiosity Shop</td><td>The Haunted Curiosity Shop</td><td>0</td><td>1901</td><td>\\N</td><td>2</td><td>Comedy,Fantasy,Horror</td><td>1742860800</td><td>124.0</td><td>0.03</td><td>5.8</td><td>545</td></tr><tr><td>tt0000358</td><td>short</td><td>History of a Crime</td><td>Histoire d'un crime</td><td>0</td><td>1901</td><td>\\N</td><td>5</td><td>Crime,Drama,Short</td><td>1742860800</td><td>124.0</td><td>0.08</td><td>6.2</td><td>830</td></tr><tr><td>tt0000379</td><td>short</td><td>Visita de la escuadra inglesa a Barcelona</td><td>Visita de la escuadra inglesa a Barcelona</td><td>0</td><td>1901</td><td>\\N</td><td>6</td><td>Documentary,Short</td><td>1742860800</td><td>124.0</td><td>0.1</td><td>4.2</td><td>15</td></tr><tr><td>tt0000409</td><td>short</td><td>Midwife to the Upper Classes</td><td>Sage-femme de première classe</td><td>0</td><td>1902</td><td>\\N</td><td>4</td><td>Comedy,Short</td><td>1742860800</td><td>123.0</td><td>0.07</td><td>5.1</td><td>303</td></tr><tr><td>tt0000423</td><td>short</td><td>The Enchanted Box</td><td>La boîte à malice</td><td>0</td><td>1903</td><td>\\N</td><td>1</td><td>Fantasy,Short</td><td>1742860800</td><td>122.0</td><td>0.02</td><td>5.5</td><td>278</td></tr><tr><td>tt0000430</td><td>short</td><td>A Chess Dispute</td><td>A Chess Dispute</td><td>0</td><td>1903</td><td>\\N</td><td>1</td><td>Comedy,Short</td><td>1742860800</td><td>122.0</td><td>0.02</td><td>5.8</td><td>751</td></tr><tr><td>tt0000451</td><td>short</td><td>Mary Jane's Mishap</td><td>Mary Jane's Mishap</td><td>0</td><td>1903</td><td>\\N</td><td>4</td><td>Comedy,Short</td><td>1742860800</td><td>122.0</td><td>0.07</td><td>6.5</td><td>1118</td></tr><tr><td>tt0000452</td><td>short</td><td>The Messenger Boy's Mistake</td><td>The Messenger Boy's Mistake</td><td>0</td><td>1903</td><td>\\N</td><td>2</td><td>Comedy,Romance,Short</td><td>1742860800</td><td>122.0</td><td>0.03</td><td>4.6</td><td>125</td></tr><tr><td>tt0000455</td><td>short</td><td>The Music Lover</td><td>Le mélomane</td><td>0</td><td>1903</td><td>\\N</td><td>3</td><td>Comedy,Music,Short</td><td>1742860800</td><td>122.0</td><td>0.05</td><td>6.7</td><td>2005</td></tr><tr><td>tt0000492</td><td>short</td><td>Personal</td><td>Personal</td><td>0</td><td>1904</td><td>\\N</td><td>6</td><td>Comedy,Short</td><td>1742860800</td><td>121.0</td><td>0.1</td><td>4.8</td><td>159</td></tr><tr><td>tt0000497</td><td>short</td><td>A Railway Tragedy</td><td>A Railway Tragedy</td><td>0</td><td>1904</td><td>\\N</td><td>5</td><td>Crime,Short</td><td>1742860800</td><td>121.0</td><td>0.08</td><td>5.2</td><td>98</td></tr><tr><td>tt0000575</td><td>short</td><td>20,000 Leagues Under the Sea</td><td>20000 lieues sous les mers</td><td>0</td><td>1907</td><td>\\N</td><td>10</td><td>Adventure,Fantasy,Sci-Fi</td><td>1742860800</td><td>118.0</td><td>0.17</td><td>5.7</td><td>612</td></tr><tr><td>tt0000608</td><td>short</td><td>En ny hat til Madammen</td><td>En ny hat til Madammen</td><td>0</td><td>1906</td><td>\\N</td><td>6</td><td>Comedy,Short</td><td>1742860800</td><td>119.0</td><td>0.1</td><td>5.8</td><td>28</td></tr></tbody></table></div>"
      ]
     },
     "metadata": {
      "application/vnd.databricks.v1+output": {
       "addedWidgets": {},
       "aggData": [],
       "aggError": "",
       "aggOverflow": false,
       "aggSchema": [],
       "aggSeriesLimitReached": false,
       "aggType": "",
       "arguments": {},
       "columnCustomDisplayInfos": {},
       "data": [
        [
         "tt0000002",
         "short",
         "Le clown et ses chiens",
         "Le clown et ses chiens",
         "0",
         "1892",
         "\\N",
         "5",
         "Animation,Short",
         1742860800,
         133,
         0.08,
         5.5,
         290
        ],
        [
         "tt0000004",
         "short",
         "Un bon bock",
         "Un bon bock",
         "0",
         "1892",
         "\\N",
         "12",
         "Animation,Short",
         1742860800,
         133,
         0.2,
         5.3,
         186
        ],
        [
         "tt0000008",
         "short",
         "Edison Kinetoscopic Record of a Sneeze",
         "Edison Kinetoscopic Record of a Sneeze",
         "0",
         "1894",
         "\\N",
         "1",
         "Documentary,Short",
         1742860800,
         131,
         0.02,
         5.4,
         2289
        ],
        [
         "tt0000015",
         "short",
         "Around a Cabin",
         "Autour d'une cabine",
         "0",
         "1894",
         "\\N",
         "2",
         "Animation,Comedy,Short",
         1742860800,
         131,
         0.03,
         6.1,
         1266
        ],
        [
         "tt0000017",
         "short",
         "Italienischer Bauerntanz",
         "Italienischer Bauerntanz",
         "0",
         "1895",
         "\\N",
         "1",
         "Documentary,Short",
         1742860800,
         130,
         0.02,
         4.6,
         378
        ],
        [
         "tt0000108",
         "short",
         "Rip Leaving Sleepy Hollow",
         "Rip Leaving Sleepy Hollow",
         "0",
         "1896",
         "\\N",
         "1",
         "Drama,Short",
         1742860800,
         129,
         0.02,
         4.4,
         587
        ],
        [
         "tt0000169",
         "short",
         "Slagsmål i gamla Stockholm",
         "Slagsmål i gamla Stockholm",
         "0",
         "1897",
         "\\N",
         "1",
         "Short",
         1742860800,
         128,
         0.02,
         4,
         61
        ],
        [
         "tt0000170",
         "short",
         "The Twins' Tea Party",
         "The Twins' Tea Party",
         "0",
         "1896",
         "\\N",
         "1",
         "Comedy,Short",
         1742860800,
         129,
         0.02,
         5.2,
         295
        ],
        [
         "tt0000172",
         "short",
         "The X-Ray Fiend",
         "The X-Ray Fiend",
         "0",
         "1897",
         "\\N",
         "1",
         "Comedy,Horror,Short",
         1742860800,
         128,
         0.02,
         6,
         1141
        ],
        [
         "tt0000174",
         "short",
         "Výstavní párkar a lepic plakátù",
         "Výstavní párkar a lepic plakátù",
         "0",
         "1898",
         "\\N",
         "1",
         "Comedy,Short",
         1742860800,
         127,
         0.02,
         4.5,
         147
        ],
        [
         "tt0000175",
         "short",
         "A Sea Cave Near Lisbon",
         "A Sea Cave Near Lisbon",
         "0",
         "1896",
         "\\N",
         "1",
         "Documentary,Short",
         1742860800,
         129,
         0.02,
         4.9,
         255
        ],
        [
         "tt0000198",
         "short",
         "La fuite en Égypte",
         "La fuite en Égypte",
         "0",
         "1898",
         "\\N",
         "1",
         "Short",
         1742860800,
         127,
         0.02,
         4.3,
         22
        ],
        [
         "tt0000231",
         "short",
         "Portuguese Railway Train",
         "Portuguese Railway Train",
         "0",
         "1896",
         "\\N",
         "1",
         "Documentary,Short",
         1742860800,
         129,
         0.02,
         3.7,
         22
        ],
        [
         "tt0000242",
         "short",
         "The Sign of the Cross",
         "Le Diable au couvent",
         "0",
         "1899",
         "\\N",
         "3",
         "Fantasy,Horror,Short",
         1742860800,
         126,
         0.05,
         6.4,
         1450
        ],
        [
         "tt0000264",
         "short",
         "Summoning the Spirits",
         "Évocation spirite",
         "0",
         "1899",
         "\\N",
         "1",
         "Fantasy,Horror,Short",
         1742860800,
         126,
         0.02,
         5.7,
         522
        ],
        [
         "tt0000302",
         "short",
         "La fée aux choux, ou la naissance des enfants",
         "La fée aux choux, ou la naissance des enfants",
         "0",
         "1900",
         "\\N",
         "1",
         "Short",
         1742860800,
         125,
         0.02,
         5.3,
         321
        ],
        [
         "tt0000337",
         "short",
         "Spanish Bullfight",
         "Spanish Bullfight",
         "0",
         "1900",
         "\\N",
         "1",
         "Short,Sport",
         1742860800,
         125,
         0.02,
         4.9,
         393
        ],
        [
         "tt0000357",
         "short",
         "The Haunted Curiosity Shop",
         "The Haunted Curiosity Shop",
         "0",
         "1901",
         "\\N",
         "2",
         "Comedy,Fantasy,Horror",
         1742860800,
         124,
         0.03,
         5.8,
         545
        ],
        [
         "tt0000358",
         "short",
         "History of a Crime",
         "Histoire d'un crime",
         "0",
         "1901",
         "\\N",
         "5",
         "Crime,Drama,Short",
         1742860800,
         124,
         0.08,
         6.2,
         830
        ],
        [
         "tt0000379",
         "short",
         "Visita de la escuadra inglesa a Barcelona",
         "Visita de la escuadra inglesa a Barcelona",
         "0",
         "1901",
         "\\N",
         "6",
         "Documentary,Short",
         1742860800,
         124,
         0.1,
         4.2,
         15
        ],
        [
         "tt0000409",
         "short",
         "Midwife to the Upper Classes",
         "Sage-femme de première classe",
         "0",
         "1902",
         "\\N",
         "4",
         "Comedy,Short",
         1742860800,
         123,
         0.07,
         5.1,
         303
        ],
        [
         "tt0000423",
         "short",
         "The Enchanted Box",
         "La boîte à malice",
         "0",
         "1903",
         "\\N",
         "1",
         "Fantasy,Short",
         1742860800,
         122,
         0.02,
         5.5,
         278
        ],
        [
         "tt0000430",
         "short",
         "A Chess Dispute",
         "A Chess Dispute",
         "0",
         "1903",
         "\\N",
         "1",
         "Comedy,Short",
         1742860800,
         122,
         0.02,
         5.8,
         751
        ],
        [
         "tt0000451",
         "short",
         "Mary Jane's Mishap",
         "Mary Jane's Mishap",
         "0",
         "1903",
         "\\N",
         "4",
         "Comedy,Short",
         1742860800,
         122,
         0.07,
         6.5,
         1118
        ],
        [
         "tt0000452",
         "short",
         "The Messenger Boy's Mistake",
         "The Messenger Boy's Mistake",
         "0",
         "1903",
         "\\N",
         "2",
         "Comedy,Romance,Short",
         1742860800,
         122,
         0.03,
         4.6,
         125
        ],
        [
         "tt0000455",
         "short",
         "The Music Lover",
         "Le mélomane",
         "0",
         "1903",
         "\\N",
         "3",
         "Comedy,Music,Short",
         1742860800,
         122,
         0.05,
         6.7,
         2005
        ],
        [
         "tt0000492",
         "short",
         "Personal",
         "Personal",
         "0",
         "1904",
         "\\N",
         "6",
         "Comedy,Short",
         1742860800,
         121,
         0.1,
         4.8,
         159
        ],
        [
         "tt0000497",
         "short",
         "A Railway Tragedy",
         "A Railway Tragedy",
         "0",
         "1904",
         "\\N",
         "5",
         "Crime,Short",
         1742860800,
         121,
         0.08,
         5.2,
         98
        ],
        [
         "tt0000575",
         "short",
         "20,000 Leagues Under the Sea",
         "20000 lieues sous les mers",
         "0",
         "1907",
         "\\N",
         "10",
         "Adventure,Fantasy,Sci-Fi",
         1742860800,
         118,
         0.17,
         5.7,
         612
        ],
        [
         "tt0000608",
         "short",
         "En ny hat til Madammen",
         "En ny hat til Madammen",
         "0",
         "1906",
         "\\N",
         "6",
         "Comedy,Short",
         1742860800,
         119,
         0.1,
         5.8,
         28
        ]
       ],
       "datasetInfos": [],
       "dbfsResultPath": null,
       "isJsonSchema": true,
       "metadata": {},
       "overflow": false,
       "plotOptions": {
        "customPlotOptions": {},
        "displayType": "table",
        "pivotAggregation": null,
        "pivotColumns": null,
        "xColumns": null,
        "yColumns": null
       },
       "removedWidgets": [],
       "schema": [
        {
         "metadata": "{}",
         "name": "tconst",
         "type": "\"string\""
        },
        {
         "metadata": "{}",
         "name": "titleType",
         "type": "\"string\""
        },
        {
         "metadata": "{}",
         "name": "primaryTitle",
         "type": "\"string\""
        },
        {
         "metadata": "{}",
         "name": "originalTitle",
         "type": "\"string\""
        },
        {
         "metadata": "{}",
         "name": "isAdult",
         "type": "\"string\""
        },
        {
         "metadata": "{}",
         "name": "startYear",
         "type": "\"string\""
        },
        {
         "metadata": "{}",
         "name": "endYear",
         "type": "\"string\""
        },
        {
         "metadata": "{}",
         "name": "runtimeMinutes",
         "type": "\"string\""
        },
        {
         "metadata": "{}",
         "name": "genres",
         "type": "\"string\""
        },
        {
         "metadata": "{}",
         "name": "timeOfExecution",
         "type": "\"long\""
        },
        {
         "metadata": "{}",
         "name": "age",
         "type": "\"double\""
        },
        {
         "metadata": "{}",
         "name": "runtimeHours",
         "type": "\"double\""
        },
        {
         "metadata": "{}",
         "name": "averageRating",
         "type": "\"double\""
        },
        {
         "metadata": "{}",
         "name": "numVotes",
         "type": "\"long\""
        }
       ],
       "type": "table"
      }
     },
     "output_type": "display_data"
    }
   ],
   "source": [
    "joinedDf = TitlesModifiedDf.join(ratingsDf, on=\"tconst\")\n",
    "display(joinedDf.head(30))\n",
    "RatingsModifiedDf = joinedDf"
   ]
  },
  {
   "cell_type": "markdown",
   "metadata": {
    "application/vnd.databricks.v1+cell": {
     "cellMetadata": {},
     "inputWidgets": {},
     "nuid": "5dba7da9-6d1e-4a89-87a9-4e2aa7b47e7c",
     "showTitle": false,
     "tableResultSettingsMap": {},
     "title": ""
    }
   },
   "source": [
    "### Tutaj to samo, więc kolejne modyfikacje\n",
    "\n",
    "* Dodaj kolumnę z wartością czasu wykonania notatnika w formacie epoch\n",
    "* Dla każdego z poniższych wyliczeń nie bierz pod uwagę `nulls` \n",
    "* Jaki film ma najlepsze oceny, oraz jaka jest średnia ocena filmów\n",
    "* Dla jednej z kolumn zmień typ danych do `long` "
   ]
  },
  {
   "cell_type": "code",
   "execution_count": 0,
   "metadata": {
    "application/vnd.databricks.v1+cell": {
     "cellMetadata": {
      "byteLimit": 2048000,
      "rowLimit": 10000
     },
     "inputWidgets": {},
     "nuid": "c73f9160-933e-48f3-9093-2e35de5fb274",
     "showTitle": false,
     "tableResultSettingsMap": {},
     "title": ""
    }
   },
   "outputs": [
    {
     "name": "stdout",
     "output_type": "stream",
     "text": [
      "Best Rated Film: The Mark (The Mark), Rating: 10.0\n",
      "Average Rating: 6.855942238493382\n"
     ]
    },
    {
     "data": {
      "text/html": [
       "<style scoped>\n",
       "  .table-result-container {\n",
       "    max-height: 300px;\n",
       "    overflow: auto;\n",
       "  }\n",
       "  table, th, td {\n",
       "    border: 1px solid black;\n",
       "    border-collapse: collapse;\n",
       "  }\n",
       "  th, td {\n",
       "    padding: 5px;\n",
       "  }\n",
       "  th {\n",
       "    text-align: left;\n",
       "  }\n",
       "</style><div class='table-result-container'><table class='table-result'><thead style='background-color: white'><tr><th>tconst</th><th>titleType</th><th>primaryTitle</th><th>originalTitle</th><th>isAdult</th><th>startYear</th><th>endYear</th><th>runtimeMinutes</th><th>genres</th><th>timeOfExecution</th><th>age</th><th>runtimeHours</th><th>averageRating</th><th>numVotes</th></tr></thead><tbody><tr><td>tt0000002</td><td>short</td><td>Le clown et ses chiens</td><td>Le clown et ses chiens</td><td>0</td><td>1892</td><td>\\N</td><td>5</td><td>Animation,Short</td><td>1742860800</td><td>133.0</td><td>0.08</td><td>5.5</td><td>290</td></tr><tr><td>tt0000004</td><td>short</td><td>Un bon bock</td><td>Un bon bock</td><td>0</td><td>1892</td><td>\\N</td><td>12</td><td>Animation,Short</td><td>1742860800</td><td>133.0</td><td>0.2</td><td>5.3</td><td>186</td></tr><tr><td>tt0000008</td><td>short</td><td>Edison Kinetoscopic Record of a Sneeze</td><td>Edison Kinetoscopic Record of a Sneeze</td><td>0</td><td>1894</td><td>\\N</td><td>1</td><td>Documentary,Short</td><td>1742860800</td><td>131.0</td><td>0.02</td><td>5.4</td><td>2289</td></tr><tr><td>tt0000015</td><td>short</td><td>Around a Cabin</td><td>Autour d'une cabine</td><td>0</td><td>1894</td><td>\\N</td><td>2</td><td>Animation,Comedy,Short</td><td>1742860800</td><td>131.0</td><td>0.03</td><td>6.1</td><td>1266</td></tr><tr><td>tt0000017</td><td>short</td><td>Italienischer Bauerntanz</td><td>Italienischer Bauerntanz</td><td>0</td><td>1895</td><td>\\N</td><td>1</td><td>Documentary,Short</td><td>1742860800</td><td>130.0</td><td>0.02</td><td>4.6</td><td>378</td></tr><tr><td>tt0000108</td><td>short</td><td>Rip Leaving Sleepy Hollow</td><td>Rip Leaving Sleepy Hollow</td><td>0</td><td>1896</td><td>\\N</td><td>1</td><td>Drama,Short</td><td>1742860800</td><td>129.0</td><td>0.02</td><td>4.4</td><td>587</td></tr><tr><td>tt0000169</td><td>short</td><td>Slagsmål i gamla Stockholm</td><td>Slagsmål i gamla Stockholm</td><td>0</td><td>1897</td><td>\\N</td><td>1</td><td>Short</td><td>1742860800</td><td>128.0</td><td>0.02</td><td>4.0</td><td>61</td></tr><tr><td>tt0000170</td><td>short</td><td>The Twins' Tea Party</td><td>The Twins' Tea Party</td><td>0</td><td>1896</td><td>\\N</td><td>1</td><td>Comedy,Short</td><td>1742860800</td><td>129.0</td><td>0.02</td><td>5.2</td><td>295</td></tr><tr><td>tt0000172</td><td>short</td><td>The X-Ray Fiend</td><td>The X-Ray Fiend</td><td>0</td><td>1897</td><td>\\N</td><td>1</td><td>Comedy,Horror,Short</td><td>1742860800</td><td>128.0</td><td>0.02</td><td>6.0</td><td>1141</td></tr><tr><td>tt0000174</td><td>short</td><td>Výstavní párkar a lepic plakátù</td><td>Výstavní párkar a lepic plakátù</td><td>0</td><td>1898</td><td>\\N</td><td>1</td><td>Comedy,Short</td><td>1742860800</td><td>127.0</td><td>0.02</td><td>4.5</td><td>147</td></tr><tr><td>tt0000175</td><td>short</td><td>A Sea Cave Near Lisbon</td><td>A Sea Cave Near Lisbon</td><td>0</td><td>1896</td><td>\\N</td><td>1</td><td>Documentary,Short</td><td>1742860800</td><td>129.0</td><td>0.02</td><td>4.9</td><td>255</td></tr><tr><td>tt0000198</td><td>short</td><td>La fuite en Égypte</td><td>La fuite en Égypte</td><td>0</td><td>1898</td><td>\\N</td><td>1</td><td>Short</td><td>1742860800</td><td>127.0</td><td>0.02</td><td>4.3</td><td>22</td></tr><tr><td>tt0000231</td><td>short</td><td>Portuguese Railway Train</td><td>Portuguese Railway Train</td><td>0</td><td>1896</td><td>\\N</td><td>1</td><td>Documentary,Short</td><td>1742860800</td><td>129.0</td><td>0.02</td><td>3.7</td><td>22</td></tr><tr><td>tt0000242</td><td>short</td><td>The Sign of the Cross</td><td>Le Diable au couvent</td><td>0</td><td>1899</td><td>\\N</td><td>3</td><td>Fantasy,Horror,Short</td><td>1742860800</td><td>126.0</td><td>0.05</td><td>6.4</td><td>1450</td></tr><tr><td>tt0000264</td><td>short</td><td>Summoning the Spirits</td><td>Évocation spirite</td><td>0</td><td>1899</td><td>\\N</td><td>1</td><td>Fantasy,Horror,Short</td><td>1742860800</td><td>126.0</td><td>0.02</td><td>5.7</td><td>522</td></tr><tr><td>tt0000302</td><td>short</td><td>La fée aux choux, ou la naissance des enfants</td><td>La fée aux choux, ou la naissance des enfants</td><td>0</td><td>1900</td><td>\\N</td><td>1</td><td>Short</td><td>1742860800</td><td>125.0</td><td>0.02</td><td>5.3</td><td>321</td></tr><tr><td>tt0000337</td><td>short</td><td>Spanish Bullfight</td><td>Spanish Bullfight</td><td>0</td><td>1900</td><td>\\N</td><td>1</td><td>Short,Sport</td><td>1742860800</td><td>125.0</td><td>0.02</td><td>4.9</td><td>393</td></tr><tr><td>tt0000357</td><td>short</td><td>The Haunted Curiosity Shop</td><td>The Haunted Curiosity Shop</td><td>0</td><td>1901</td><td>\\N</td><td>2</td><td>Comedy,Fantasy,Horror</td><td>1742860800</td><td>124.0</td><td>0.03</td><td>5.8</td><td>545</td></tr><tr><td>tt0000358</td><td>short</td><td>History of a Crime</td><td>Histoire d'un crime</td><td>0</td><td>1901</td><td>\\N</td><td>5</td><td>Crime,Drama,Short</td><td>1742860800</td><td>124.0</td><td>0.08</td><td>6.2</td><td>830</td></tr><tr><td>tt0000379</td><td>short</td><td>Visita de la escuadra inglesa a Barcelona</td><td>Visita de la escuadra inglesa a Barcelona</td><td>0</td><td>1901</td><td>\\N</td><td>6</td><td>Documentary,Short</td><td>1742860800</td><td>124.0</td><td>0.1</td><td>4.2</td><td>15</td></tr></tbody></table></div>"
      ]
     },
     "metadata": {
      "application/vnd.databricks.v1+output": {
       "addedWidgets": {},
       "aggData": [],
       "aggError": "",
       "aggOverflow": false,
       "aggSchema": [],
       "aggSeriesLimitReached": false,
       "aggType": "",
       "arguments": {},
       "columnCustomDisplayInfos": {},
       "data": [
        [
         "tt0000002",
         "short",
         "Le clown et ses chiens",
         "Le clown et ses chiens",
         "0",
         1892,
         "\\N",
         "5",
         "Animation,Short",
         1742860800,
         133,
         0.08,
         5.5,
         290
        ],
        [
         "tt0000004",
         "short",
         "Un bon bock",
         "Un bon bock",
         "0",
         1892,
         "\\N",
         "12",
         "Animation,Short",
         1742860800,
         133,
         0.2,
         5.3,
         186
        ],
        [
         "tt0000008",
         "short",
         "Edison Kinetoscopic Record of a Sneeze",
         "Edison Kinetoscopic Record of a Sneeze",
         "0",
         1894,
         "\\N",
         "1",
         "Documentary,Short",
         1742860800,
         131,
         0.02,
         5.4,
         2289
        ],
        [
         "tt0000015",
         "short",
         "Around a Cabin",
         "Autour d'une cabine",
         "0",
         1894,
         "\\N",
         "2",
         "Animation,Comedy,Short",
         1742860800,
         131,
         0.03,
         6.1,
         1266
        ],
        [
         "tt0000017",
         "short",
         "Italienischer Bauerntanz",
         "Italienischer Bauerntanz",
         "0",
         1895,
         "\\N",
         "1",
         "Documentary,Short",
         1742860800,
         130,
         0.02,
         4.6,
         378
        ],
        [
         "tt0000108",
         "short",
         "Rip Leaving Sleepy Hollow",
         "Rip Leaving Sleepy Hollow",
         "0",
         1896,
         "\\N",
         "1",
         "Drama,Short",
         1742860800,
         129,
         0.02,
         4.4,
         587
        ],
        [
         "tt0000169",
         "short",
         "Slagsmål i gamla Stockholm",
         "Slagsmål i gamla Stockholm",
         "0",
         1897,
         "\\N",
         "1",
         "Short",
         1742860800,
         128,
         0.02,
         4,
         61
        ],
        [
         "tt0000170",
         "short",
         "The Twins' Tea Party",
         "The Twins' Tea Party",
         "0",
         1896,
         "\\N",
         "1",
         "Comedy,Short",
         1742860800,
         129,
         0.02,
         5.2,
         295
        ],
        [
         "tt0000172",
         "short",
         "The X-Ray Fiend",
         "The X-Ray Fiend",
         "0",
         1897,
         "\\N",
         "1",
         "Comedy,Horror,Short",
         1742860800,
         128,
         0.02,
         6,
         1141
        ],
        [
         "tt0000174",
         "short",
         "Výstavní párkar a lepic plakátù",
         "Výstavní párkar a lepic plakátù",
         "0",
         1898,
         "\\N",
         "1",
         "Comedy,Short",
         1742860800,
         127,
         0.02,
         4.5,
         147
        ],
        [
         "tt0000175",
         "short",
         "A Sea Cave Near Lisbon",
         "A Sea Cave Near Lisbon",
         "0",
         1896,
         "\\N",
         "1",
         "Documentary,Short",
         1742860800,
         129,
         0.02,
         4.9,
         255
        ],
        [
         "tt0000198",
         "short",
         "La fuite en Égypte",
         "La fuite en Égypte",
         "0",
         1898,
         "\\N",
         "1",
         "Short",
         1742860800,
         127,
         0.02,
         4.3,
         22
        ],
        [
         "tt0000231",
         "short",
         "Portuguese Railway Train",
         "Portuguese Railway Train",
         "0",
         1896,
         "\\N",
         "1",
         "Documentary,Short",
         1742860800,
         129,
         0.02,
         3.7,
         22
        ],
        [
         "tt0000242",
         "short",
         "The Sign of the Cross",
         "Le Diable au couvent",
         "0",
         1899,
         "\\N",
         "3",
         "Fantasy,Horror,Short",
         1742860800,
         126,
         0.05,
         6.4,
         1450
        ],
        [
         "tt0000264",
         "short",
         "Summoning the Spirits",
         "Évocation spirite",
         "0",
         1899,
         "\\N",
         "1",
         "Fantasy,Horror,Short",
         1742860800,
         126,
         0.02,
         5.7,
         522
        ],
        [
         "tt0000302",
         "short",
         "La fée aux choux, ou la naissance des enfants",
         "La fée aux choux, ou la naissance des enfants",
         "0",
         1900,
         "\\N",
         "1",
         "Short",
         1742860800,
         125,
         0.02,
         5.3,
         321
        ],
        [
         "tt0000337",
         "short",
         "Spanish Bullfight",
         "Spanish Bullfight",
         "0",
         1900,
         "\\N",
         "1",
         "Short,Sport",
         1742860800,
         125,
         0.02,
         4.9,
         393
        ],
        [
         "tt0000357",
         "short",
         "The Haunted Curiosity Shop",
         "The Haunted Curiosity Shop",
         "0",
         1901,
         "\\N",
         "2",
         "Comedy,Fantasy,Horror",
         1742860800,
         124,
         0.03,
         5.8,
         545
        ],
        [
         "tt0000358",
         "short",
         "History of a Crime",
         "Histoire d'un crime",
         "0",
         1901,
         "\\N",
         "5",
         "Crime,Drama,Short",
         1742860800,
         124,
         0.08,
         6.2,
         830
        ],
        [
         "tt0000379",
         "short",
         "Visita de la escuadra inglesa a Barcelona",
         "Visita de la escuadra inglesa a Barcelona",
         "0",
         1901,
         "\\N",
         "6",
         "Documentary,Short",
         1742860800,
         124,
         0.1,
         4.2,
         15
        ]
       ],
       "datasetInfos": [],
       "dbfsResultPath": null,
       "isJsonSchema": true,
       "metadata": {},
       "overflow": false,
       "plotOptions": {
        "customPlotOptions": {},
        "displayType": "table",
        "pivotAggregation": null,
        "pivotColumns": null,
        "xColumns": null,
        "yColumns": null
       },
       "removedWidgets": [],
       "schema": [
        {
         "metadata": "{}",
         "name": "tconst",
         "type": "\"string\""
        },
        {
         "metadata": "{}",
         "name": "titleType",
         "type": "\"string\""
        },
        {
         "metadata": "{}",
         "name": "primaryTitle",
         "type": "\"string\""
        },
        {
         "metadata": "{}",
         "name": "originalTitle",
         "type": "\"string\""
        },
        {
         "metadata": "{}",
         "name": "isAdult",
         "type": "\"string\""
        },
        {
         "metadata": "{}",
         "name": "startYear",
         "type": "\"long\""
        },
        {
         "metadata": "{}",
         "name": "endYear",
         "type": "\"string\""
        },
        {
         "metadata": "{}",
         "name": "runtimeMinutes",
         "type": "\"string\""
        },
        {
         "metadata": "{}",
         "name": "genres",
         "type": "\"string\""
        },
        {
         "metadata": "{}",
         "name": "timeOfExecution",
         "type": "\"long\""
        },
        {
         "metadata": "{}",
         "name": "age",
         "type": "\"double\""
        },
        {
         "metadata": "{}",
         "name": "runtimeHours",
         "type": "\"double\""
        },
        {
         "metadata": "{}",
         "name": "averageRating",
         "type": "\"double\""
        },
        {
         "metadata": "{}",
         "name": "numVotes",
         "type": "\"long\""
        }
       ],
       "type": "table"
      }
     },
     "output_type": "display_data"
    },
    {
     "name": "stdout",
     "output_type": "stream",
     "text": [
      "root\n",
      " |-- tconst: string (nullable = true)\n",
      " |-- titleType: string (nullable = true)\n",
      " |-- primaryTitle: string (nullable = true)\n",
      " |-- originalTitle: string (nullable = true)\n",
      " |-- isAdult: string (nullable = true)\n",
      " |-- startYear: long (nullable = true)\n",
      " |-- endYear: string (nullable = true)\n",
      " |-- runtimeMinutes: string (nullable = true)\n",
      " |-- genres: string (nullable = true)\n",
      " |-- timeOfExecution: long (nullable = true)\n",
      " |-- age: double (nullable = true)\n",
      " |-- runtimeHours: double (nullable = true)\n",
      " |-- averageRating: double (nullable = true)\n",
      " |-- numVotes: integer (nullable = true)\n",
      "\n"
     ]
    }
   ],
   "source": [
    "from pyspark.sql.functions import unix_timestamp, current_date, desc, avg\n",
    "\n",
    "# Add timestamp and drop nulls\n",
    "RatingsModifiedDf = RatingsModifiedDf.withColumn(\"timeOfExecution\", unix_timestamp(current_date()))\n",
    "RatingsModifiedDf = RatingsModifiedDf.na.drop()\n",
    "\n",
    "# Best Rated\n",
    "best_rated_row = RatingsModifiedDf.orderBy(desc(\"averageRating\")).first()\n",
    "best_film_title = best_rated_row[\"primaryTitle\"]\n",
    "best_film_original = best_rated_row[\"originalTitle\"]\n",
    "best_film_rating = best_rated_row[\"averageRating\"]\n",
    "\n",
    "# Average\n",
    "avg_rating = RatingsModifiedDf.select(avg(\"averageRating\")).first()[0]\n",
    "\n",
    "# Cast to long\n",
    "RatingsModifiedDf = RatingsModifiedDf.withColumn(\"startYear\", col(\"startYear\").cast(\"long\"))\n",
    "\n",
    "# Print results\n",
    "print(f\"Best Rated Film: {best_film_title} ({best_film_original}), Rating: {best_film_rating}\")\n",
    "print(f\"Average Rating: {avg_rating}\")\n",
    "\n",
    "# Display dataframe\n",
    "display(RatingsModifiedDf.head(20))\n",
    "RatingsModifiedDf.printSchema()"
   ]
  },
  {
   "cell_type": "markdown",
   "metadata": {},
   "source": [
    "# 2 Spark UI\n",
    "\n",
    "## Elementy Spark UI\n",
    "\n",
    "### Jobs\n",
    "Jobs pokazują wysokopoziomowe zadania Sparka. Można tu zobaczyć poszczególne wywołania akcji (np. collect(), count()), ich status (sukces/porażka), czas wykonania oraz szczegóły każdego zadania. Pozwala to analizować wydajność i identyfikować wąskie gardła w aplikacji.\n",
    "\n",
    "### Stages\n",
    "Stages pokazują jak jobs są dzielone na mniejsze grupy zadań. Wyświetla informacje o czasie wykonania, liczbie zadań, odczytanych/zapisanych danych i shuffle operations. Dostępne są szczegółowe metryki dotyczące wykonywania poszczególnych etapów.\n",
    "\n",
    "### Storage\n",
    "Zakładka Storage wyświetla informacje o danych przechowywanych w pamięci (cached RDDs i DataFrames). Pokazuje poziom wykorzystania pamięci, rodzaj przechowywania (MEMORY_ONLY, MEMORY_AND_DISK) oraz stopień partycjonowania danych.\n",
    "\n",
    "### Environment\n",
    "Environment zawiera informacje o konfiguracji środowiska Spark, w tym wersję Spark, parametry JVM, zmienne środowiskowe i właściwości Sparka. Jest to przydatne do debugowania problemów związanych z konfiguracją.\n",
    "\n",
    "### Executors\n",
    "Executors pokazuje informacje o węzłach wykonawczych Sparka, w tym wykorzystanie zasobów (CPU, pamięć), ilość przetworzonych danych, liczbę aktywnych/zakończonych zadań oraz metryki GC. Pomaga monitorować równomierność obciążenia klastra.\n",
    "\n",
    "### SQL/DataFrame\n",
    "Ta zakładka pokazuje wykonanie zapytań SQL i operacji na DataFrame'ach. Zawiera plany fizyczne i logiczne, statystyki wykonania oraz wizualizacje grafów DAG dla zapytań. Pozwala analizować złożone operacje i ich optymalizację.\n",
    "\n",
    "### JDBC/ODBC Server\n",
    "Wyświetla informacje o połączeniach JDBC/ODBC do Spark Thrift Server, w tym aktywne sesje, wykonywane zapytania i statystyki połączeń. Jest to przydatne przy korzystaniu ze Sparka jako źródła danych dla narzędzi BI.\n",
    "\n",
    "### Structured Streaming\n",
    "Ta sekcja zawiera informacje o aplikacjach Structured Streaming, w tym przepustowość, opóźnienia, aktywne zapytania strumieniowe oraz statystyki dotyczące źródeł i ujść danych. Pomaga monitorować przetwarzanie strumieniowe w czasie rzeczywistym."
   ]
  }
 ],
 "metadata": {
  "application/vnd.databricks.v1+notebook": {
   "computePreferences": null,
   "dashboards": [],
   "environmentMetadata": null,
   "language": "python",
   "notebookMetadata": {
    "mostRecentlyExecutedCommandWithImplicitDF": {
     "commandId": 1636507613985804,
     "dataframes": [
      "_sqldf"
     ]
    },
    "pythonIndentUnit": 2
   },
   "notebookName": "Cwiczenia 3",
   "widgets": {}
  },
  "language_info": {
   "name": "python"
  }
 },
 "nbformat": 4,
 "nbformat_minor": 0
}
